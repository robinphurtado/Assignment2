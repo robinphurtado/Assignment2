{
 "cells": [
  {
   "cell_type": "markdown",
   "id": "a60e72d2",
   "metadata": {},
   "source": [
    "# Assignment 2\n",
    "\n",
    "Read all instructions carefully"
   ]
  },
  {
   "cell_type": "markdown",
   "id": "cda830bb",
   "metadata": {},
   "source": [
    "## Work Requirements\n",
    "\n",
    "- You must work on Assignment 2 alone. You may not work with partners.\n",
    "- You may use online resources (Stack Exchange, Googling, Regex cheat sheets), including documentation and everything on Canvas. However, you may not use an LLM (ChatGPT, Copilot, etc)\n",
    "- Lightly document your code, especially any decisions you make along the way. You do not need extensive documentation. You do **NOT** need a separate README file. But a person should be able to read your submission top to bottom and understand what you're doing."
   ]
  },
  {
   "cell_type": "markdown",
   "id": "0c706db0",
   "metadata": {},
   "source": [
    "## Submission Instructions\n",
    "\n",
    "- This assignment is due on **Monday, October 6 at 6:59pm**.\n",
    "- The assignment must be submitted on Canvas as a single PDF file together with a requirements.txt file (as a text file, not PDF). The two files must be submitted as separate files, not as a zip file.\n",
    "- The PDF file you submit must be named with the following format \"lastname_firstname_assignment2.pdf\"\n",
    "- The requirements.txt file should only include the libraries you need to run your code in a Jupyter notebook, with their versions properly specified (e.g., use pip freeze with your venv activated)"
   ]
  },
  {
   "cell_type": "markdown",
   "id": "6a7cecea",
   "metadata": {},
   "source": [
    "## Recommendations and Resources"
   ]
  },
  {
   "cell_type": "markdown",
   "id": "bdb1b0ea",
   "metadata": {},
   "source": [
    "**Recommendation:** Complete the assignment in a Jupyter notebook, and then convert the notebook to a PDF. If you have too much trouble converting to PDF, then convert it to HTML, open it as HTML and export that page to PDF (but this is a less preferred option)."
   ]
  },
  {
   "cell_type": "markdown",
   "id": "fdab2786",
   "metadata": {},
   "source": [
    "**Recommendation:** As always, start by examining the data you read in and understand it. What does each row represent in each dataframe?"
   ]
  },
  {
   "cell_type": "markdown",
   "id": "30696280",
   "metadata": {},
   "source": [
    "**Helpful Documentation:**\n",
    "- Pandas expanding: https://pandas.pydata.org/pandas-docs/stable/reference/api/pandas.DataFrame.expanding.html#pandas.DataFrame.expanding\n",
    "- Python re library for Regex: https://docs.python.org/3/library/re.html\n",
    "- Pareto: https://numpy.org/doc/stable/reference/random/generated/numpy.random.pareto.html#numpy.random.pareto\n",
    "- Gaussian: https://numpy.org/doc/stable/reference/random/generated/numpy.random.normal.html#numpy-random-normal\n",
    "- Seaborn Boxplot: https://seaborn.pydata.org/generated/seaborn.boxplot.html\n",
    "- Seaborn Scatterplot: https://seaborn.pydata.org/generated/seaborn.scatterplot.html\n",
    "- Matplotlib scatterplot: https://matplotlib.org/stable/api/_as_gen/matplotlib.pyplot.scatter.html\n",
    "- Matplotlib boxplot: https://matplotlib.org/stable/api/_as_gen/matplotlib.pyplot.boxplot.html#"
   ]
  },
  {
   "cell_type": "markdown",
   "id": "2809f8a2",
   "metadata": {},
   "source": [
    "# Part 0 - Imports and CoW"
   ]
  },
  {
   "cell_type": "code",
   "execution_count": 333,
   "id": "a43c1f82",
   "metadata": {},
   "outputs": [],
   "source": [
    "from pathlib import Path\n",
    "import pandas as pd  # need to import pandas first.\n",
    "import re\n",
    "\n",
    "# Enforce Copy-on-Write\n",
    "pd.set_option(\"mode.copy_on_write\", True)"
   ]
  },
  {
   "cell_type": "code",
   "execution_count": 334,
   "id": "a2120e22",
   "metadata": {},
   "outputs": [],
   "source": [
    "# Import libraries\n",
    "import numpy as np\n",
    "# import pandas as pd  -- imported above to run pd.set_option\n",
    "import matplotlib.pyplot as plt\n",
    "import seaborn as sns\n",
    "# import re"
   ]
  },
  {
   "cell_type": "code",
   "execution_count": 335,
   "id": "9a9085f4",
   "metadata": {},
   "outputs": [],
   "source": [
    "# set standard paths\n",
    "cwd = Path().cwd() #set our cwd\n",
    "project_folder = cwd.parent #set our project folder as the cwd parent"
   ]
  },
  {
   "cell_type": "markdown",
   "id": "b455bbff",
   "metadata": {},
   "source": [
    "# Part 1 - Regex, EDA, and Visualization"
   ]
  },
  {
   "cell_type": "markdown",
   "id": "38a38bb2",
   "metadata": {},
   "source": [
    "Load the Food Safety datasets (bus.csv, ins2vio.csv, ins.csv, and vio.csv) into pandas dataframes and answer the following questions based on the dataframes."
   ]
  },
  {
   "cell_type": "code",
   "execution_count": 336,
   "id": "932d1aaf",
   "metadata": {},
   "outputs": [],
   "source": [
    "#Load the datasets into Pandas DataFrames\n",
    "\n",
    "# df that holds the info regarding the buinesses\n",
    "bus_dataset_path = Path('data/bus.csv') #using a data folder makes life easier\n",
    "bus_file = project_folder / bus_dataset_path #join the project folder with the dataset path\n",
    "if not bus_file.exists():\n",
    "\traise FileNotFoundError(f\"Dataset file not found: {bus_file}\")\n",
    "\n",
    "# df that holds the info regarding the inspections\n",
    "ins_dataset_path = Path('data/ins.csv') #using a data folder makes life easier\n",
    "ins_file = project_folder / ins_dataset_path #join the project folder with the dataset path\n",
    "if not ins_file.exists():\n",
    "\traise FileNotFoundError(f\"Dataset file not found: {ins_file}\")\n",
    "\n",
    "# df that holds the relation from inspection to violation\n",
    "ins2vio_dataset_path = Path('data/ins2vio.csv') #using a data folder makes life easier\n",
    "ins2vio_file = project_folder / ins2vio_dataset_path #join the project folder with the dataset path\n",
    "if not ins2vio_file.exists():\n",
    "\traise FileNotFoundError(f\"Dataset file not found: {ins2vio_file}\")\n",
    "\n",
    "# df that holds the info regarding the violations\n",
    "vio_dataset_path = Path('data/vio.csv') #using a data folder makes life easier\n",
    "vio_file = project_folder / vio_dataset_path #join the project folder with the dataset path\n",
    "if not vio_file.exists():\n",
    "\traise FileNotFoundError(f\"Dataset file not found: {vio_file}\")\n",
    "\n",
    "business = pd.read_csv(bus_file)\n",
    "inspection = pd.read_csv(ins_file)\n",
    "insp2vio = pd.read_csv(ins2vio_file)\n",
    "violation = pd.read_csv(vio_file)"
   ]
  },
  {
   "cell_type": "markdown",
   "id": "549eb518",
   "metadata": {},
   "source": [
    "Use the business dataset (bus) to answer the first few questions below"
   ]
  },
  {
   "cell_type": "markdown",
   "id": "ca29e33f",
   "metadata": {},
   "source": [
    "1.1) Examining the entries in `bus`, is the `bid` unique for each record (i.e. each row of data)?\n",
    "\n",
    "Hint: use `value_counts()` or `unique()` to determine if the `bid` series has any duplicates."
   ]
  },
  {
   "cell_type": "code",
   "execution_count": 337,
   "id": "9d69b5a9",
   "metadata": {},
   "outputs": [
    {
     "name": "stdout",
     "output_type": "stream",
     "text": [
      "The entries in the bid column of the bus file are unique:  True\n"
     ]
    }
   ],
   "source": [
    "# compare the number of elements in column with the number of unique elements in the column\n",
    "is_unique = business['business id column'].unique().size == business['business id column'].size\n",
    "print('The entries in the bid column of the bus file are unique: ', is_unique)"
   ]
  },
  {
   "cell_type": "code",
   "execution_count": 338,
   "id": "8de6b3be",
   "metadata": {},
   "outputs": [
    {
     "data": {
      "text/html": [
       "<div>\n",
       "<style scoped>\n",
       "    .dataframe tbody tr th:only-of-type {\n",
       "        vertical-align: middle;\n",
       "    }\n",
       "\n",
       "    .dataframe tbody tr th {\n",
       "        vertical-align: top;\n",
       "    }\n",
       "\n",
       "    .dataframe thead th {\n",
       "        text-align: right;\n",
       "    }\n",
       "</style>\n",
       "<table border=\"1\" class=\"dataframe\">\n",
       "  <thead>\n",
       "    <tr style=\"text-align: right;\">\n",
       "      <th></th>\n",
       "      <th>business id column</th>\n",
       "      <th>name</th>\n",
       "      <th>address</th>\n",
       "      <th>city</th>\n",
       "      <th>state</th>\n",
       "      <th>postal_code</th>\n",
       "      <th>latitude</th>\n",
       "      <th>longitude</th>\n",
       "      <th>phone_number</th>\n",
       "    </tr>\n",
       "  </thead>\n",
       "  <tbody>\n",
       "    <tr>\n",
       "      <th>0</th>\n",
       "      <td>1000</td>\n",
       "      <td>HEUNG YUEN RESTAURANT</td>\n",
       "      <td>3279 22nd St</td>\n",
       "      <td>San Francisco</td>\n",
       "      <td>CA</td>\n",
       "      <td>94110</td>\n",
       "      <td>37.755282</td>\n",
       "      <td>-122.420493</td>\n",
       "      <td>-9999</td>\n",
       "    </tr>\n",
       "    <tr>\n",
       "      <th>1</th>\n",
       "      <td>100010</td>\n",
       "      <td>ILLY CAFFE SF_PIER 39</td>\n",
       "      <td>PIER 39  K-106-B</td>\n",
       "      <td>San Francisco</td>\n",
       "      <td>CA</td>\n",
       "      <td>94133</td>\n",
       "      <td>-9999.000000</td>\n",
       "      <td>-9999.000000</td>\n",
       "      <td>14154827284</td>\n",
       "    </tr>\n",
       "    <tr>\n",
       "      <th>2</th>\n",
       "      <td>100017</td>\n",
       "      <td>AMICI'S EAST COAST PIZZERIA</td>\n",
       "      <td>475 06th St</td>\n",
       "      <td>San Francisco</td>\n",
       "      <td>CA</td>\n",
       "      <td>94103</td>\n",
       "      <td>-9999.000000</td>\n",
       "      <td>-9999.000000</td>\n",
       "      <td>14155279839</td>\n",
       "    </tr>\n",
       "    <tr>\n",
       "      <th>3</th>\n",
       "      <td>100026</td>\n",
       "      <td>LOCAL CATERING</td>\n",
       "      <td>1566 CARROLL AVE</td>\n",
       "      <td>San Francisco</td>\n",
       "      <td>CA</td>\n",
       "      <td>94124</td>\n",
       "      <td>-9999.000000</td>\n",
       "      <td>-9999.000000</td>\n",
       "      <td>14155860315</td>\n",
       "    </tr>\n",
       "    <tr>\n",
       "      <th>4</th>\n",
       "      <td>100030</td>\n",
       "      <td>OUI OUI! MACARON</td>\n",
       "      <td>2200 JERROLD AVE STE C</td>\n",
       "      <td>San Francisco</td>\n",
       "      <td>CA</td>\n",
       "      <td>94124</td>\n",
       "      <td>-9999.000000</td>\n",
       "      <td>-9999.000000</td>\n",
       "      <td>14159702675</td>\n",
       "    </tr>\n",
       "  </tbody>\n",
       "</table>\n",
       "</div>"
      ],
      "text/plain": [
       "   business id column                         name                 address  \\\n",
       "0                1000        HEUNG YUEN RESTAURANT            3279 22nd St   \n",
       "1              100010        ILLY CAFFE SF_PIER 39        PIER 39  K-106-B   \n",
       "2              100017  AMICI'S EAST COAST PIZZERIA             475 06th St   \n",
       "3              100026               LOCAL CATERING        1566 CARROLL AVE   \n",
       "4              100030             OUI OUI! MACARON  2200 JERROLD AVE STE C   \n",
       "\n",
       "            city state postal_code     latitude    longitude  phone_number  \n",
       "0  San Francisco    CA       94110    37.755282  -122.420493         -9999  \n",
       "1  San Francisco    CA       94133 -9999.000000 -9999.000000   14154827284  \n",
       "2  San Francisco    CA       94103 -9999.000000 -9999.000000   14155279839  \n",
       "3  San Francisco    CA       94124 -9999.000000 -9999.000000   14155860315  \n",
       "4  San Francisco    CA       94124 -9999.000000 -9999.000000   14159702675  "
      ]
     },
     "execution_count": 338,
     "metadata": {},
     "output_type": "execute_result"
    }
   ],
   "source": [
    "# take a peek at the dataframe\n",
    "business.head()"
   ]
  },
  {
   "cell_type": "code",
   "execution_count": 339,
   "id": "94154de9",
   "metadata": {},
   "outputs": [
    {
     "data": {
      "text/plain": [
       "Index(['business id column', 'name', 'address', 'city', 'state', 'postal_code',\n",
       "       'latitude', 'longitude', 'phone_number'],\n",
       "      dtype='object')"
      ]
     },
     "execution_count": 339,
     "metadata": {},
     "output_type": "execute_result"
    }
   ],
   "source": [
    "# take a look at the columns of the business dataframe\n",
    "business.columns"
   ]
  },
  {
   "cell_type": "code",
   "execution_count": 340,
   "id": "28f6f106",
   "metadata": {},
   "outputs": [
    {
     "data": {
      "text/html": [
       "<div>\n",
       "<style scoped>\n",
       "    .dataframe tbody tr th:only-of-type {\n",
       "        vertical-align: middle;\n",
       "    }\n",
       "\n",
       "    .dataframe tbody tr th {\n",
       "        vertical-align: top;\n",
       "    }\n",
       "\n",
       "    .dataframe thead th {\n",
       "        text-align: right;\n",
       "    }\n",
       "</style>\n",
       "<table border=\"1\" class=\"dataframe\">\n",
       "  <thead>\n",
       "    <tr style=\"text-align: right;\">\n",
       "      <th></th>\n",
       "      <th>business id column</th>\n",
       "      <th>latitude</th>\n",
       "      <th>longitude</th>\n",
       "      <th>phone_number</th>\n",
       "    </tr>\n",
       "  </thead>\n",
       "  <tbody>\n",
       "    <tr>\n",
       "      <th>count</th>\n",
       "      <td>6253.000000</td>\n",
       "      <td>6253.000000</td>\n",
       "      <td>6253.000000</td>\n",
       "      <td>6.253000e+03</td>\n",
       "    </tr>\n",
       "    <tr>\n",
       "      <th>mean</th>\n",
       "      <td>60448.948984</td>\n",
       "      <td>-5575.337966</td>\n",
       "      <td>-5645.817699</td>\n",
       "      <td>4.701819e+09</td>\n",
       "    </tr>\n",
       "    <tr>\n",
       "      <th>std</th>\n",
       "      <td>36480.132445</td>\n",
       "      <td>4983.390142</td>\n",
       "      <td>4903.993683</td>\n",
       "      <td>6.667508e+09</td>\n",
       "    </tr>\n",
       "    <tr>\n",
       "      <th>min</th>\n",
       "      <td>19.000000</td>\n",
       "      <td>-9999.000000</td>\n",
       "      <td>-9999.000000</td>\n",
       "      <td>-9.999000e+03</td>\n",
       "    </tr>\n",
       "    <tr>\n",
       "      <th>25%</th>\n",
       "      <td>18399.000000</td>\n",
       "      <td>-9999.000000</td>\n",
       "      <td>-9999.000000</td>\n",
       "      <td>-9.999000e+03</td>\n",
       "    </tr>\n",
       "    <tr>\n",
       "      <th>50%</th>\n",
       "      <td>75685.000000</td>\n",
       "      <td>-9999.000000</td>\n",
       "      <td>-9999.000000</td>\n",
       "      <td>-9.999000e+03</td>\n",
       "    </tr>\n",
       "    <tr>\n",
       "      <th>75%</th>\n",
       "      <td>90886.000000</td>\n",
       "      <td>37.776494</td>\n",
       "      <td>-122.421553</td>\n",
       "      <td>1.415533e+10</td>\n",
       "    </tr>\n",
       "    <tr>\n",
       "      <th>max</th>\n",
       "      <td>102705.000000</td>\n",
       "      <td>37.824494</td>\n",
       "      <td>0.000000</td>\n",
       "      <td>1.415988e+10</td>\n",
       "    </tr>\n",
       "  </tbody>\n",
       "</table>\n",
       "</div>"
      ],
      "text/plain": [
       "       business id column     latitude    longitude  phone_number\n",
       "count         6253.000000  6253.000000  6253.000000  6.253000e+03\n",
       "mean         60448.948984 -5575.337966 -5645.817699  4.701819e+09\n",
       "std          36480.132445  4983.390142  4903.993683  6.667508e+09\n",
       "min             19.000000 -9999.000000 -9999.000000 -9.999000e+03\n",
       "25%          18399.000000 -9999.000000 -9999.000000 -9.999000e+03\n",
       "50%          75685.000000 -9999.000000 -9999.000000 -9.999000e+03\n",
       "75%          90886.000000    37.776494  -122.421553  1.415533e+10\n",
       "max         102705.000000    37.824494     0.000000  1.415988e+10"
      ]
     },
     "execution_count": 340,
     "metadata": {},
     "output_type": "execute_result"
    }
   ],
   "source": [
    "#\n",
    "business.describe()"
   ]
  },
  {
   "cell_type": "code",
   "execution_count": 341,
   "id": "e23a73bb",
   "metadata": {},
   "outputs": [
    {
     "data": {
      "text/plain": [
       "business id column      int64\n",
       "name                   object\n",
       "address                object\n",
       "city                   object\n",
       "state                  object\n",
       "postal_code            object\n",
       "latitude              float64\n",
       "longitude             float64\n",
       "phone_number            int64\n",
       "dtype: object"
      ]
     },
     "execution_count": 341,
     "metadata": {},
     "output_type": "execute_result"
    }
   ],
   "source": [
    "business.dtypes"
   ]
  },
  {
   "cell_type": "markdown",
   "id": "0cd4c925",
   "metadata": {},
   "source": [
    "1.2) In the two cells below create the following **two numpy arrays**:\n",
    "\n",
    "1. Assign `top_names` to the top 5 most frequently used business names, from most frequent to least frequent.\n",
    "2. Assign `top_addresses` to the top 5 addressses where businesses are located, from most popular to least popular.\n",
    "\n",
    "Hint: you may find `value_counts()` helpful. "
   ]
  },
  {
   "cell_type": "code",
   "execution_count": 342,
   "id": "f978b994",
   "metadata": {},
   "outputs": [],
   "source": [
    "# store the names with the 5 highest value counts as a numpy array top_names (value_counts returns a Series, names are the index)\n",
    "top_names = np.array(business['name'].value_counts().head().index) \n",
    "# store the addresses with the 5 highest value counts as a numpy array top_names (value_counts returns a Series, addresses are the index)\n",
    "top_addresses = np.array(business['address'].value_counts().head().index)\n"
   ]
  },
  {
   "cell_type": "markdown",
   "id": "fd7c2c91",
   "metadata": {},
   "source": [
    "1.3) Look at the businesses that DO NOT have the special MISSING ZIP code value. Some of the invalid postal codes are just the full 9 digit code rather than the first 5 digits. Create a new column named `postal5` in the original bus dataframe which contains only the first 5 digits of the postal_code column. Finally, for any of the likely MISSING postal5 ZIP code entries set the entry to None."
   ]
  },
  {
   "cell_type": "code",
   "execution_count": 343,
   "id": "d3daf865",
   "metadata": {},
   "outputs": [
    {
     "data": {
      "text/plain": [
       "postal_code\n",
       "94103         562\n",
       "94110         555\n",
       "94102         456\n",
       "94107         408\n",
       "94133         398\n",
       "             ... \n",
       "94124-1917      1\n",
       "94102-5917      1\n",
       "94105-2907      1\n",
       "95112           1\n",
       "94123-3106      1\n",
       "Name: count, Length: 63, dtype: int64"
      ]
     },
     "execution_count": 343,
     "metadata": {},
     "output_type": "execute_result"
    }
   ],
   "source": [
    "# manually explore postal_code column because it is not numeric\n",
    "business['postal_code'].value_counts()"
   ]
  },
  {
   "cell_type": "code",
   "execution_count": 344,
   "id": "6be62562",
   "metadata": {},
   "outputs": [
    {
     "data": {
      "text/plain": [
       "'-9999'"
      ]
     },
     "execution_count": 344,
     "metadata": {},
     "output_type": "execute_result"
    }
   ],
   "source": [
    "business['postal_code'].min()"
   ]
  },
  {
   "cell_type": "code",
   "execution_count": 345,
   "id": "f6c66cdb",
   "metadata": {},
   "outputs": [
    {
     "data": {
      "text/plain": [
       "array(['94110', '94133', '94103', '94124', '94123', '94118', '94121',\n",
       "       '94134', '94114', '94109', '94102', '94132', '94116', '-9999',\n",
       "       '94107', '94105', '94108', '94117', '94158', '94112', '94127',\n",
       "       '94105-1420', '94111', '94122', '94115', '94104', '94122-1909',\n",
       "       '94131', '94117-3504', '94518', '95105', '94013', '94130',\n",
       "       '941102019', '941', '941033148', 'CA', '92672', '94120', '94143',\n",
       "       '94101', '94014', '94129', '94602', 'Ca', '94080', '00000',\n",
       "       '94188', '64110', '94544', '94301', '94901', '95117', '95133',\n",
       "       '95109', '95132', '95122', '94621', '94124-1917', '94102-5917',\n",
       "       '94105-2907', '95112', '94123-3106'], dtype=object)"
      ]
     },
     "execution_count": 345,
     "metadata": {},
     "output_type": "execute_result"
    }
   ],
   "source": [
    "# take a look at the unique postal codes to try and find special MISSING ZIP code value\n",
    "business['postal_code'].unique()"
   ]
  },
  {
   "cell_type": "code",
   "execution_count": 346,
   "id": "6f896bfd",
   "metadata": {},
   "outputs": [
    {
     "data": {
      "text/plain": [
       "array(['94110', '94133', '94103', '94124', '94123', '94118', '94121',\n",
       "       '94134', '94114', '94109', '94102', '94132', '94116', '94107',\n",
       "       '94105', '94108', '94117', '94158', '94112', '94127', '94105-1420',\n",
       "       '94111', '94122', '94115', '94104', '94122-1909', '94131',\n",
       "       '94117-3504', '94518', '95105', '94013', '94130', '941102019',\n",
       "       '941', '941033148', 'CA', '92672', '94120', '94143', '94101',\n",
       "       '94014', '94129', '94602', 'Ca', '94080', '00000', '94188',\n",
       "       '64110', '94544', '94301', '94901', '95117', '95133', '95109',\n",
       "       '95132', '95122', '94621', '94124-1917', '94102-5917',\n",
       "       '94105-2907', '95112', '94123-3106'], dtype=object)"
      ]
     },
     "execution_count": 346,
     "metadata": {},
     "output_type": "execute_result"
    }
   ],
   "source": [
    "# 1.3) Look at the businesses that DO NOT have the special MISSING ZIP code value. Some of the invalid \n",
    "# postal codes are just the full 9 digit code rather than the first 5 digits. Create a new column \n",
    "# named `postal5` in the original bus dataframe which contains only the first 5 digits of the \n",
    "# postal_code column. Finally, for any of the likely MISSING postal5 ZIP code entries set the entry to None.\n",
    "\n",
    "########################################\n",
    "\n",
    "# add the column postal5 as a copy of postal_code\n",
    "## business['postal5'] = business['postal_code']\n",
    "\n",
    "# if the value of postal5 is not '-9999' replace it with the first 5 digits\n",
    "# business['postal5'] != '-9999'\n",
    "## business['postal5'] = business[business['postal5'] != '-9999']['postal5'].str[:5]\n",
    "## business[business['postal5'] == '-9999']['postal5'].str.replace(business['postal5'], 'None')\n",
    "# pattern_pc = r\"([0-9]{5})\"\n",
    "# business['postal5'] = business['postal_code'].str[:5]\n",
    "# business[business['postal_code'].str.len() > 5]\n",
    "# business['postal_code'].is_na\n",
    "# ismissing = business['postal_code'] == '-9999'\n",
    "## isNone = business['postal5'] == 'None'\n",
    "## isNone.value_counts()\n",
    "\n",
    "########################3#########\n",
    "\n",
    "# look at the business that DO NOT have the special MISSING ZIP code value (-9999)\n",
    "# look at the unique values to see what we may have that is not the missign zip value and is not likely a valid zip\n",
    "business[business['postal_code'] != '-9999']['postal_code'].unique()\n"
   ]
  },
  {
   "cell_type": "code",
   "execution_count": 347,
   "id": "c3ed1f89",
   "metadata": {},
   "outputs": [
    {
     "data": {
      "text/plain": [
       "array(['94110', '94133', '94103', '94124', '94123', '94118', '94121',\n",
       "       '94134', '94114', '94109', '94102', '94132', '94116', 'None',\n",
       "       '94107', '94105', '94108', '94117', '94158', '94112', '94127',\n",
       "       '94111', '94122', '94115', '94104', '94131', '94518', '95105',\n",
       "       '94013', '94130', '941', 'CA', '92672', '94120', '94143', '94101',\n",
       "       '94014', '94129', '94602', 'Ca', '94080', '00000', '94188',\n",
       "       '64110', '94544', '94301', '94901', '95117', '95133', '95109',\n",
       "       '95132', '95122', '94621', '95112'], dtype=object)"
      ]
     },
     "execution_count": 347,
     "metadata": {},
     "output_type": "execute_result"
    }
   ],
   "source": [
    "#Create a new column  named `postal5` in the original bus dataframe which contains only the first 5 digits of the \n",
    "# postal_code column. \n",
    "business['postal5'] = business['postal_code'].str[:5]\n",
    "business\n",
    "business[business['postal_code'].str.len() > 5]\n",
    "\n",
    "# check to see if anything weird happened when we stored just the first 5 digits of postal_code in postal5\n",
    "business['postal5'].unique()\n",
    "\n",
    "# #Finally, for any of the likely MISSING postal5 ZIP code entries set the entry to None.\n",
    "# replace the zip codes that contanin the missing zip code value with 'None'\n",
    "business['postal5'] = business['postal5'].str.replace('-9999', 'None', regex = True)\n",
    "\n",
    "business['postal5'].unique()"
   ]
  },
  {
   "cell_type": "code",
   "execution_count": 348,
   "id": "a108eab9",
   "metadata": {},
   "outputs": [
    {
     "data": {
      "text/html": [
       "<div>\n",
       "<style scoped>\n",
       "    .dataframe tbody tr th:only-of-type {\n",
       "        vertical-align: middle;\n",
       "    }\n",
       "\n",
       "    .dataframe tbody tr th {\n",
       "        vertical-align: top;\n",
       "    }\n",
       "\n",
       "    .dataframe thead th {\n",
       "        text-align: right;\n",
       "    }\n",
       "</style>\n",
       "<table border=\"1\" class=\"dataframe\">\n",
       "  <thead>\n",
       "    <tr style=\"text-align: right;\">\n",
       "      <th></th>\n",
       "      <th>business id column</th>\n",
       "      <th>name</th>\n",
       "      <th>address</th>\n",
       "      <th>city</th>\n",
       "      <th>state</th>\n",
       "      <th>postal_code</th>\n",
       "      <th>latitude</th>\n",
       "      <th>longitude</th>\n",
       "      <th>phone_number</th>\n",
       "      <th>postal5</th>\n",
       "    </tr>\n",
       "  </thead>\n",
       "  <tbody>\n",
       "    <tr>\n",
       "      <th>1824</th>\n",
       "      <td>5208</td>\n",
       "      <td>GOLDEN GATE YACHT CLUB</td>\n",
       "      <td>1 YACHT Rd</td>\n",
       "      <td>San Francisco</td>\n",
       "      <td>CA</td>\n",
       "      <td>941</td>\n",
       "      <td>37.807878</td>\n",
       "      <td>-122.442499</td>\n",
       "      <td>14155342628</td>\n",
       "      <td>941</td>\n",
       "    </tr>\n",
       "    <tr>\n",
       "      <th>2409</th>\n",
       "      <td>64540</td>\n",
       "      <td>Leo's Hot Dogs</td>\n",
       "      <td>2301 Mission St</td>\n",
       "      <td>San Francisco</td>\n",
       "      <td>CA</td>\n",
       "      <td>CA</td>\n",
       "      <td>37.760054</td>\n",
       "      <td>-122.419166</td>\n",
       "      <td>14155774013</td>\n",
       "      <td>CA</td>\n",
       "    </tr>\n",
       "    <tr>\n",
       "      <th>2418</th>\n",
       "      <td>64738</td>\n",
       "      <td>Japacurry</td>\n",
       "      <td>Public</td>\n",
       "      <td>San Francisco</td>\n",
       "      <td>CA</td>\n",
       "      <td>CA</td>\n",
       "      <td>37.777122</td>\n",
       "      <td>-122.419639</td>\n",
       "      <td>-9999</td>\n",
       "      <td>CA</td>\n",
       "    </tr>\n",
       "    <tr>\n",
       "      <th>4576</th>\n",
       "      <td>88139</td>\n",
       "      <td>Tacolicious</td>\n",
       "      <td>2250 Chestnut St</td>\n",
       "      <td>San Francisco</td>\n",
       "      <td>CA</td>\n",
       "      <td>Ca</td>\n",
       "      <td>-9999.000000</td>\n",
       "      <td>-9999.000000</td>\n",
       "      <td>14155646077</td>\n",
       "      <td>Ca</td>\n",
       "    </tr>\n",
       "  </tbody>\n",
       "</table>\n",
       "</div>"
      ],
      "text/plain": [
       "      business id column                    name           address  \\\n",
       "1824                5208  GOLDEN GATE YACHT CLUB        1 YACHT Rd   \n",
       "2409               64540          Leo's Hot Dogs   2301 Mission St   \n",
       "2418               64738               Japacurry            Public   \n",
       "4576               88139             Tacolicious  2250 Chestnut St   \n",
       "\n",
       "               city state postal_code     latitude    longitude  phone_number  \\\n",
       "1824  San Francisco    CA         941    37.807878  -122.442499   14155342628   \n",
       "2409  San Francisco    CA          CA    37.760054  -122.419166   14155774013   \n",
       "2418  San Francisco    CA          CA    37.777122  -122.419639         -9999   \n",
       "4576  San Francisco    CA          Ca -9999.000000 -9999.000000   14155646077   \n",
       "\n",
       "     postal5  \n",
       "1824     941  \n",
       "2409      CA  \n",
       "2418      CA  \n",
       "4576      Ca  "
      ]
     },
     "execution_count": 348,
     "metadata": {},
     "output_type": "execute_result"
    }
   ],
   "source": [
    "# investigate the other odd values returned : 'CA', 'Ca', '00000', '941' not 5 digits\n",
    "pattern = r'^[0-9]{5}'\n",
    "business[~business['postal5'].str.match(pattern)] \n",
    "business[(business['postal5'] != 'None') & (~business['postal5'].str.match(pattern))] \n"
   ]
  },
  {
   "cell_type": "markdown",
   "id": "7213255c",
   "metadata": {},
   "source": [
    "*I am not familiar enough with San Francisco or the zip code lat/ long areas to be able to speculate the correct zip codes here.  May be solved with a quick google for each restaurant and address, or go back to the source, but for now it would not be accurate to replace these postal codes with \"None\" because they were not missing.*"
   ]
  },
  {
   "cell_type": "markdown",
   "id": "23cb7a4f",
   "metadata": {},
   "source": [
    "Now using the four Food Safety datasets bus.csv, ins2vio.csv, ins.csv, and vio.csv:\n",
    "\n",
    "1.5) Create a side-by-side boxplot that shows the distribution of the restaurant scores for each different risk category from 2017 to 2019. Use a figure size of at least 12 by 8.\n",
    "\n",
    "Hint: Consider using appropriate JOIN operations."
   ]
  },
  {
   "cell_type": "code",
   "execution_count": 349,
   "id": "9d9719bc",
   "metadata": {},
   "outputs": [
    {
     "data": {
      "text/plain": [
       "<Axes: xlabel='risk_category', ylabel='score'>"
      ]
     },
     "execution_count": 349,
     "metadata": {},
     "output_type": "execute_result"
    },
    {
     "data": {
      "image/png": "[encoded data removed]",
      "text/plain": [
       "<Figure size 1200x800 with 1 Axes>"
      ]
     },
     "metadata": {},
     "output_type": "display_data"
    }
   ],
   "source": [
    "#SELECT\n",
    "# i.score,\n",
    "# v.risk_category\n",
    "#FROM\n",
    "#viol v\n",
    "#INNER JOIN\n",
    "# ins2vio i2v  ON v.vid = i2v.vid\n",
    "# INNER JOIN\n",
    "# ins i IN i2v.iid=i.iid\n",
    "score_dist_2017to2019 = insp2vio.merge(inspection, how='left')\n",
    "score_dist_2017to2019\n",
    "score_dist_2017to2019[score_dist_2017to2019['iid'] == '1000_20171002']\n",
    "score_dist_2017to2019 = score_dist_2017to2019.merge(violation)\n",
    "score_dist_2017to2019\n",
    "\n",
    "score_dist_2017to2019 = score_dist_2017to2019[score_dist_2017to2019['date'].str.match(r'[0-1][0-9]/[0-3][0-9]/201[7-9]')]\n",
    "#WHERE\n",
    "#need to filter dates from 2017-2019\n",
    "sns.set(rc={\"figure.figsize\":(12, 8)}) #width=12, #height=8\n",
    "bp_data = score_dist_2017to2019 #[['risk_category', 'score', 'date']]\n",
    "bp_x = score_dist_2017to2019['risk_category']\n",
    "bp_y = score_dist_2017to2019['score']\n",
    "#score_dist_2017to2019[['risk_category', 'score', 'date']]\n",
    "sns.boxplot(data = bp_data, x = bp_x, y = bp_y)\n",
    "\n"
   ]
  },
  {
   "cell_type": "markdown",
   "id": "354ce096",
   "metadata": {},
   "source": [
    "# Part II - Making a Synthetic Dataset\n",
    "\n",
    "In this part you're going to be create a synthetic dataset (dataframe) with 1000 observations (rows). You are going to use random number generators to create the data for you.\n",
    "\n",
    "You can use either the numpy or scipy library, whichever you find easier. Be sure to import any libraries you use at the top of the ntoebook (not down here)."
   ]
  },
  {
   "cell_type": "code",
   "execution_count": 350,
   "id": "d9f14f52",
   "metadata": {},
   "outputs": [
    {
     "data": {
      "text/plain": [
       "array([0.58348567, 0.27269529, 0.45795037, ..., 0.52064488, 0.7625083 ,\n",
       "       0.03651479], shape=(10000,))"
      ]
     },
     "execution_count": 350,
     "metadata": {},
     "output_type": "execute_result"
    }
   ],
   "source": [
    "# number of random numbers to generate (instructions say 1000, n is initilized with 10,000 ?)\n",
    "n = 10000\n",
    "rng = np.random.default_rng()\n",
    "syndata = rng.random(n)\n",
    "syndata"
   ]
  },
  {
   "cell_type": "code",
   "execution_count": 351,
   "id": "e272b5f7",
   "metadata": {},
   "outputs": [
    {
     "data": {
      "text/plain": [
       "array([0.77395605, 0.43887844, 0.85859792, ..., 0.16534697, 0.3734104 ,\n",
       "       0.48090777], shape=(10000,))"
      ]
     },
     "execution_count": 351,
     "metadata": {},
     "output_type": "execute_result"
    }
   ],
   "source": [
    "#Optional: set random seed for reproducibility (how you do it depends on whether yo uuse numpy or scipy to generate the random numbers)\n",
    "\n",
    "# create a new random number generator seeded with the number 42 for reproducibility and store it in rng_seeded\n",
    "rng_seeded = np.random.default_rng(seed=42)\n",
    "# generate n \"random\" numbers\n",
    "syndata_seeded = rng_seeded.random(n)\n",
    "syndata_seeded\n"
   ]
  },
  {
   "cell_type": "markdown",
   "id": "2951e7b7",
   "metadata": {},
   "source": [
    "2.1) Create a variable \"v1\" of 10,000 numbers where y = 3x+4 is the value of the element at index x, i.e., [4, 7, 10, ...] (Done for you)"
   ]
  },
  {
   "cell_type": "code",
   "execution_count": 352,
   "id": "ab0d3380",
   "metadata": {},
   "outputs": [
    {
     "data": {
      "text/plain": [
       "array([    4,     7,    10, ..., 29995, 29998, 30001], shape=(10000,))"
      ]
     },
     "execution_count": 352,
     "metadata": {},
     "output_type": "execute_result"
    }
   ],
   "source": [
    "v1 = 3 * np.arange(n) + 4\n",
    "v1"
   ]
  },
  {
   "cell_type": "markdown",
   "id": "305bf94e",
   "metadata": {},
   "source": [
    "2.2) Create a list of 10,000 samples from a normal (Gaussian) distribution with mean = 0 and variance = 10.\n",
    "\n",
    "HINT: Pay attention to whether the argument to your number generator is variance or standard deviation. (It doesn't have to be a python list, it can be an array or dataframe, or whatever dtype is most convenient for you.)"
   ]
  },
  {
   "cell_type": "code",
   "execution_count": 353,
   "id": "d8ffefdc",
   "metadata": {},
   "outputs": [
    {
     "data": {
      "text/plain": [
       "array([-7.98371141,  5.25526063, -1.66837906, ...,  7.76145527,\n",
       "       14.85377563, -6.57017016], shape=(10000,))"
      ]
     },
     "execution_count": 353,
     "metadata": {},
     "output_type": "execute_result"
    }
   ],
   "source": [
    "# noise = np.random.normal... (can also use scipy)\n",
    "# of values to generate \n",
    "n = 10000\n",
    "# desired mean\n",
    "m = 0\n",
    "# desired variance \n",
    "v = 10\n",
    "\n",
    "# create a new random number generator\n",
    "rng_normal = np.random.default_rng()\n",
    "# generate noise given the parameters above\n",
    "noise = rng_normal.normal(m, v, n)\n",
    "noise"
   ]
  },
  {
   "cell_type": "markdown",
   "id": "b5d70539",
   "metadata": {},
   "source": [
    "2.3) Create a variable v2 = v1 + Gaussian noise, using the noise your created above"
   ]
  },
  {
   "cell_type": "code",
   "execution_count": 354,
   "id": "fa5af276",
   "metadata": {},
   "outputs": [],
   "source": [
    "# v2 = v1 + noise\n",
    "v2 = v1 + noise"
   ]
  },
  {
   "cell_type": "markdown",
   "id": "7df85a53",
   "metadata": {},
   "source": [
    "2.4) Create a variable v3 = exp(v1) that exponentiates the libear variable in v1, also sometimes denoted e^(v1), e.g., v3[0] = e^4"
   ]
  },
  {
   "cell_type": "code",
   "execution_count": 355,
   "id": "3d1d1f76",
   "metadata": {},
   "outputs": [
    {
     "name": "stderr",
     "output_type": "stream",
     "text": [
      "C:\\Users\\robin\\AppData\\Local\\Temp\\ipykernel_32940\\2071923852.py:2: RuntimeWarning: overflow encountered in exp\n",
      "  v3 = np.exp(v1)\n"
     ]
    },
    {
     "data": {
      "text/plain": [
       "array([   54.59815003,  1096.63315843, 22026.46579481, ...,\n",
       "                  inf,            inf,            inf], shape=(10000,))"
      ]
     },
     "execution_count": 355,
     "metadata": {},
     "output_type": "execute_result"
    }
   ],
   "source": [
    "#v3 = \n",
    "v3 = np.exp(v1)\n",
    "v3"
   ]
  },
  {
   "cell_type": "code",
   "execution_count": 356,
   "id": "ade4a3d3",
   "metadata": {},
   "outputs": [
    {
     "data": {
      "text/plain": [
       "np.float64(1096.6331584284585)"
      ]
     },
     "execution_count": 356,
     "metadata": {},
     "output_type": "execute_result"
    }
   ],
   "source": [
    "np.exp(7)"
   ]
  },
  {
   "cell_type": "markdown",
   "id": "c285be5f",
   "metadata": {},
   "source": [
    "2.5) Create a list v4 = exp(v1) + Gaussian noise, using the same noise variable you created earlier"
   ]
  },
  {
   "cell_type": "code",
   "execution_count": 357,
   "id": "789c7479",
   "metadata": {},
   "outputs": [
    {
     "name": "stderr",
     "output_type": "stream",
     "text": [
      "C:\\Users\\robin\\AppData\\Local\\Temp\\ipykernel_32940\\2525642452.py:2: RuntimeWarning: overflow encountered in exp\n",
      "  v4 = np.exp(v1) + noise\n"
     ]
    },
    {
     "data": {
      "text/plain": [
       "array([   46.61443862,  1101.88841906, 22024.79741575, ...,\n",
       "                  inf,            inf,            inf], shape=(10000,))"
      ]
     },
     "execution_count": 357,
     "metadata": {},
     "output_type": "execute_result"
    }
   ],
   "source": [
    "#v4 = \n",
    "v4 = np.exp(v1) + noise\n",
    "v4"
   ]
  },
  {
   "cell_type": "markdown",
   "id": "8cc92013",
   "metadata": {},
   "source": [
    "2.6) Create a list v5 = exp(v1 + Gaussian noise), using the same noise variable you created earlier"
   ]
  },
  {
   "cell_type": "code",
   "execution_count": 358,
   "id": "ea33d10f",
   "metadata": {},
   "outputs": [
    {
     "name": "stderr",
     "output_type": "stream",
     "text": [
      "C:\\Users\\robin\\AppData\\Local\\Temp\\ipykernel_32940\\2145815808.py:2: RuntimeWarning: overflow encountered in exp\n",
      "  v5 = np.exp(v1 + noise)\n"
     ]
    },
    {
     "data": {
      "text/plain": [
       "array([1.86164178e-02, 2.10083559e+05, 4.15314412e+03, ...,\n",
       "                  inf,            inf,            inf], shape=(10000,))"
      ]
     },
     "execution_count": 358,
     "metadata": {},
     "output_type": "execute_result"
    }
   ],
   "source": [
    "# v5 = \n",
    "v5 = np.exp(v1 + noise)\n",
    "v5"
   ]
  },
  {
   "cell_type": "markdown",
   "id": "21b34357",
   "metadata": {},
   "source": [
    "2.7) Create a dataframe with 10,000 rows and columns = [v1, v2, v3, v4, v5, noise]"
   ]
  },
  {
   "cell_type": "code",
   "execution_count": 359,
   "id": "2d819f8e",
   "metadata": {},
   "outputs": [
    {
     "data": {
      "text/html": [
       "<div>\n",
       "<style scoped>\n",
       "    .dataframe tbody tr th:only-of-type {\n",
       "        vertical-align: middle;\n",
       "    }\n",
       "\n",
       "    .dataframe tbody tr th {\n",
       "        vertical-align: top;\n",
       "    }\n",
       "\n",
       "    .dataframe thead th {\n",
       "        text-align: right;\n",
       "    }\n",
       "</style>\n",
       "<table border=\"1\" class=\"dataframe\">\n",
       "  <thead>\n",
       "    <tr style=\"text-align: right;\">\n",
       "      <th></th>\n",
       "      <th>v1</th>\n",
       "      <th>v2</th>\n",
       "      <th>v3</th>\n",
       "      <th>v4</th>\n",
       "      <th>v5</th>\n",
       "      <th>noise</th>\n",
       "    </tr>\n",
       "  </thead>\n",
       "  <tbody>\n",
       "    <tr>\n",
       "      <th>0</th>\n",
       "      <td>4</td>\n",
       "      <td>-3.983711</td>\n",
       "      <td>5.459815e+01</td>\n",
       "      <td>4.661444e+01</td>\n",
       "      <td>1.861642e-02</td>\n",
       "      <td>-7.983711</td>\n",
       "    </tr>\n",
       "    <tr>\n",
       "      <th>1</th>\n",
       "      <td>7</td>\n",
       "      <td>12.255261</td>\n",
       "      <td>1.096633e+03</td>\n",
       "      <td>1.101888e+03</td>\n",
       "      <td>2.100836e+05</td>\n",
       "      <td>5.255261</td>\n",
       "    </tr>\n",
       "    <tr>\n",
       "      <th>2</th>\n",
       "      <td>10</td>\n",
       "      <td>8.331621</td>\n",
       "      <td>2.202647e+04</td>\n",
       "      <td>2.202480e+04</td>\n",
       "      <td>4.153144e+03</td>\n",
       "      <td>-1.668379</td>\n",
       "    </tr>\n",
       "    <tr>\n",
       "      <th>3</th>\n",
       "      <td>13</td>\n",
       "      <td>7.069145</td>\n",
       "      <td>4.424134e+05</td>\n",
       "      <td>4.424075e+05</td>\n",
       "      <td>1.175143e+03</td>\n",
       "      <td>-5.930855</td>\n",
       "    </tr>\n",
       "    <tr>\n",
       "      <th>4</th>\n",
       "      <td>16</td>\n",
       "      <td>29.674236</td>\n",
       "      <td>8.886111e+06</td>\n",
       "      <td>8.886124e+06</td>\n",
       "      <td>7.715375e+12</td>\n",
       "      <td>13.674236</td>\n",
       "    </tr>\n",
       "    <tr>\n",
       "      <th>...</th>\n",
       "      <td>...</td>\n",
       "      <td>...</td>\n",
       "      <td>...</td>\n",
       "      <td>...</td>\n",
       "      <td>...</td>\n",
       "      <td>...</td>\n",
       "    </tr>\n",
       "    <tr>\n",
       "      <th>9995</th>\n",
       "      <td>29989</td>\n",
       "      <td>30015.871139</td>\n",
       "      <td>inf</td>\n",
       "      <td>inf</td>\n",
       "      <td>inf</td>\n",
       "      <td>26.871139</td>\n",
       "    </tr>\n",
       "    <tr>\n",
       "      <th>9996</th>\n",
       "      <td>29992</td>\n",
       "      <td>29995.639811</td>\n",
       "      <td>inf</td>\n",
       "      <td>inf</td>\n",
       "      <td>inf</td>\n",
       "      <td>3.639811</td>\n",
       "    </tr>\n",
       "    <tr>\n",
       "      <th>9997</th>\n",
       "      <td>29995</td>\n",
       "      <td>30002.761455</td>\n",
       "      <td>inf</td>\n",
       "      <td>inf</td>\n",
       "      <td>inf</td>\n",
       "      <td>7.761455</td>\n",
       "    </tr>\n",
       "    <tr>\n",
       "      <th>9998</th>\n",
       "      <td>29998</td>\n",
       "      <td>30012.853776</td>\n",
       "      <td>inf</td>\n",
       "      <td>inf</td>\n",
       "      <td>inf</td>\n",
       "      <td>14.853776</td>\n",
       "    </tr>\n",
       "    <tr>\n",
       "      <th>9999</th>\n",
       "      <td>30001</td>\n",
       "      <td>29994.429830</td>\n",
       "      <td>inf</td>\n",
       "      <td>inf</td>\n",
       "      <td>inf</td>\n",
       "      <td>-6.570170</td>\n",
       "    </tr>\n",
       "  </tbody>\n",
       "</table>\n",
       "<p>10000 rows × 6 columns</p>\n",
       "</div>"
      ],
      "text/plain": [
       "         v1            v2            v3            v4            v5      noise\n",
       "0         4     -3.983711  5.459815e+01  4.661444e+01  1.861642e-02  -7.983711\n",
       "1         7     12.255261  1.096633e+03  1.101888e+03  2.100836e+05   5.255261\n",
       "2        10      8.331621  2.202647e+04  2.202480e+04  4.153144e+03  -1.668379\n",
       "3        13      7.069145  4.424134e+05  4.424075e+05  1.175143e+03  -5.930855\n",
       "4        16     29.674236  8.886111e+06  8.886124e+06  7.715375e+12  13.674236\n",
       "...     ...           ...           ...           ...           ...        ...\n",
       "9995  29989  30015.871139           inf           inf           inf  26.871139\n",
       "9996  29992  29995.639811           inf           inf           inf   3.639811\n",
       "9997  29995  30002.761455           inf           inf           inf   7.761455\n",
       "9998  29998  30012.853776           inf           inf           inf  14.853776\n",
       "9999  30001  29994.429830           inf           inf           inf  -6.570170\n",
       "\n",
       "[10000 rows x 6 columns]"
      ]
     },
     "execution_count": 359,
     "metadata": {},
     "output_type": "execute_result"
    }
   ],
   "source": [
    "# df_full = ...\n",
    "d = {'v1': v1, 'v2': v2, 'v3': v3, 'v4': v4, 'v5': v5, 'noise': noise}\n",
    "df_full = pd.DataFrame( data = d)\n",
    "df_full"
   ]
  },
  {
   "cell_type": "markdown",
   "id": "b4a25983",
   "metadata": {},
   "source": [
    "2.8) For each variable (v2, v3, v4, v5) create a separate scatter plot with v1 on the x-axis. Remark on your general observations."
   ]
  },
  {
   "cell_type": "code",
   "execution_count": 365,
   "id": "64cc6b0c",
   "metadata": {},
   "outputs": [],
   "source": [
    "###############################Consider whether to manually make mutiple plots or just use pairplot and remove this one\n",
    "# Code for plots here, and remarks and observations here\n",
    "# sns.scatterplot(data = df_full, x = 'v1',  y='v2')\n"
   ]
  },
  {
   "cell_type": "code",
   "execution_count": 367,
   "id": "2f71afb3",
   "metadata": {},
   "outputs": [
    {
     "name": "stderr",
     "output_type": "stream",
     "text": [
      "f:\\Code\\CST577DataScience\\Assignment2\\venv\\Lib\\site-packages\\matplotlib\\ticker.py:2178: RuntimeWarning: overflow encountered in multiply\n",
      "  steps = self._extended_steps * scale\n"
     ]
    },
    {
     "data": {
      "text/plain": [
       "<seaborn.axisgrid.PairGrid at 0x235345ad8c0>"
      ]
     },
     "execution_count": 367,
     "metadata": {},
     "output_type": "execute_result"
    },
    {
     "data": {
      "image/png": "[encoded data removed]",
      "text/plain": [
       "<Figure size 800x1600 with 4 Axes>"
      ]
     },
     "metadata": {},
     "output_type": "display_data"
    }
   ],
   "source": [
    "sns.pairplot(df_full, y_vars=['v2','v3', 'v4', 'v5'], x_vars='v1', height=4, aspect=2)"
   ]
  },
  {
   "cell_type": "markdown",
   "id": "ebcbf13a",
   "metadata": {},
   "source": [
    "2.9)  Create pair of boxplots with v4 and v5 next to each other. Remark on how v4 and v5 compare, based on the violin plots and the scatter plots. You may use other plots or tools if helpful."
   ]
  },
  {
   "cell_type": "code",
   "execution_count": 362,
   "id": "804372e7",
   "metadata": {},
   "outputs": [
    {
     "name": "stderr",
     "output_type": "stream",
     "text": [
      "f:\\Code\\CST577DataScience\\Assignment2\\venv\\Lib\\site-packages\\matplotlib\\ticker.py:2178: RuntimeWarning: overflow encountered in multiply\n",
      "  steps = self._extended_steps * scale\n",
      "f:\\Code\\CST577DataScience\\Assignment2\\venv\\Lib\\site-packages\\matplotlib\\ticker.py:2178: RuntimeWarning: overflow encountered in multiply\n",
      "  steps = self._extended_steps * scale\n"
     ]
    },
    {
     "data": {
      "image/png": "[encoded data removed]",
      "text/plain": [
       "<Figure size 2000x400 with 2 Axes>"
      ]
     },
     "metadata": {},
     "output_type": "display_data"
    }
   ],
   "source": [
    "# sns.set(rc={\"figure.figsize\":(12, 8)}) #width=12, #height=8\n",
    "# bp2_data = df_full\n",
    "# bp2_x =df_full[['v4', 'v5']]\n",
    "# bp2_y = df_full['v5']\n",
    "# #score_dist_2017to2019[['risk_category', 'score', 'date']]\n",
    "\n",
    "\n",
    "\n",
    "# v4_plot = sns.boxplot(y = df_full['v4'])\n",
    "# v5_plot = sns.boxplot(y = df_full['v5'])\n",
    "# plt.show(v4_plot)\n",
    "# plt.show(v5_plot)\n",
    "\n",
    "#violinplot I get an error that the matrix is not positive definite\n",
    "\n",
    "plt.figure(figsize=(20,4))\n",
    "plt.subplot(141)\n",
    "sns.boxplot(y = df_full['v4'])\n",
    "plt.subplot(142)\n",
    "sns.boxplot(y = df_full['v5'])\n",
    "plt.show()\n"
   ]
  },
  {
   "cell_type": "code",
   "execution_count": 364,
   "id": "8386b0a4",
   "metadata": {},
   "outputs": [
    {
     "name": "stderr",
     "output_type": "stream",
     "text": [
      "f:\\Code\\CST577DataScience\\Assignment2\\venv\\Lib\\site-packages\\numpy\\lib\\_function_base_impl.py:2913: RuntimeWarning: overflow encountered in dot\n",
      "  c = dot(X, X_T.conj())\n",
      "f:\\Code\\CST577DataScience\\Assignment2\\venv\\Lib\\site-packages\\numpy\\_core\\function_base.py:162: RuntimeWarning: invalid value encountered in multiply\n",
      "  y *= step\n",
      "f:\\Code\\CST577DataScience\\Assignment2\\venv\\Lib\\site-packages\\numpy\\_core\\function_base.py:172: RuntimeWarning: invalid value encountered in add\n",
      "  y += start\n",
      "f:\\Code\\CST577DataScience\\Assignment2\\venv\\Lib\\site-packages\\numpy\\lib\\_function_base_impl.py:2913: RuntimeWarning: overflow encountered in dot\n",
      "  c = dot(X, X_T.conj())\n"
     ]
    },
    {
     "ename": "LinAlgError",
     "evalue": "Matrix is not positive definite",
     "output_type": "error",
     "traceback": [
      "\u001b[31m---------------------------------------------------------------------------\u001b[39m",
      "\u001b[31mLinAlgError\u001b[39m                               Traceback (most recent call last)",
      "\u001b[36mCell\u001b[39m\u001b[36m \u001b[39m\u001b[32mIn[364]\u001b[39m\u001b[32m, line 2\u001b[39m\n\u001b[32m      1\u001b[39m plt.figure(figsize=(\u001b[32m2\u001b[39m,\u001b[32m2\u001b[39m))\n\u001b[32m----> \u001b[39m\u001b[32m2\u001b[39m \u001b[43msns\u001b[49m\u001b[43m.\u001b[49m\u001b[43mviolinplot\u001b[49m\u001b[43m(\u001b[49m\u001b[43mx\u001b[49m\u001b[43m \u001b[49m\u001b[43m=\u001b[49m\u001b[43m \u001b[49m\u001b[43mdf_full\u001b[49m\u001b[43m[\u001b[49m\u001b[33;43m'\u001b[39;49m\u001b[33;43mv4\u001b[39;49m\u001b[33;43m'\u001b[39;49m\u001b[43m]\u001b[49m\u001b[43m)\u001b[49m\n\u001b[32m      3\u001b[39m sns.violinplot(x = df_full[\u001b[33m'\u001b[39m\u001b[33mv5\u001b[39m\u001b[33m'\u001b[39m])\n",
      "\u001b[36mFile \u001b[39m\u001b[32mf:\\Code\\CST577DataScience\\Assignment2\\venv\\Lib\\site-packages\\seaborn\\categorical.py:1770\u001b[39m, in \u001b[36mviolinplot\u001b[39m\u001b[34m(data, x, y, hue, order, hue_order, orient, color, palette, saturation, fill, inner, split, width, dodge, gap, linewidth, linecolor, cut, gridsize, bw_method, bw_adjust, density_norm, common_norm, hue_norm, formatter, log_scale, native_scale, legend, scale, scale_hue, bw, inner_kws, ax, **kwargs)\u001b[39m\n\u001b[32m   1767\u001b[39m kde_kws = \u001b[38;5;28mdict\u001b[39m(cut=cut, gridsize=gridsize, bw_method=bw_method, bw_adjust=bw_adjust)\n\u001b[32m   1768\u001b[39m inner_kws = {} \u001b[38;5;28;01mif\u001b[39;00m inner_kws \u001b[38;5;129;01mis\u001b[39;00m \u001b[38;5;28;01mNone\u001b[39;00m \u001b[38;5;28;01melse\u001b[39;00m inner_kws.copy()\n\u001b[32m-> \u001b[39m\u001b[32m1770\u001b[39m \u001b[43mp\u001b[49m\u001b[43m.\u001b[49m\u001b[43mplot_violins\u001b[49m\u001b[43m(\u001b[49m\n\u001b[32m   1771\u001b[39m \u001b[43m    \u001b[49m\u001b[43mwidth\u001b[49m\u001b[43m=\u001b[49m\u001b[43mwidth\u001b[49m\u001b[43m,\u001b[49m\n\u001b[32m   1772\u001b[39m \u001b[43m    \u001b[49m\u001b[43mdodge\u001b[49m\u001b[43m=\u001b[49m\u001b[43mdodge\u001b[49m\u001b[43m,\u001b[49m\n\u001b[32m   1773\u001b[39m \u001b[43m    \u001b[49m\u001b[43mgap\u001b[49m\u001b[43m=\u001b[49m\u001b[43mgap\u001b[49m\u001b[43m,\u001b[49m\n\u001b[32m   1774\u001b[39m \u001b[43m    \u001b[49m\u001b[43msplit\u001b[49m\u001b[43m=\u001b[49m\u001b[43msplit\u001b[49m\u001b[43m,\u001b[49m\n\u001b[32m   1775\u001b[39m \u001b[43m    \u001b[49m\u001b[43mcolor\u001b[49m\u001b[43m=\u001b[49m\u001b[43mcolor\u001b[49m\u001b[43m,\u001b[49m\n\u001b[32m   1776\u001b[39m \u001b[43m    \u001b[49m\u001b[43mfill\u001b[49m\u001b[43m=\u001b[49m\u001b[43mfill\u001b[49m\u001b[43m,\u001b[49m\n\u001b[32m   1777\u001b[39m \u001b[43m    \u001b[49m\u001b[43mlinecolor\u001b[49m\u001b[43m=\u001b[49m\u001b[43mlinecolor\u001b[49m\u001b[43m,\u001b[49m\n\u001b[32m   1778\u001b[39m \u001b[43m    \u001b[49m\u001b[43mlinewidth\u001b[49m\u001b[43m=\u001b[49m\u001b[43mlinewidth\u001b[49m\u001b[43m,\u001b[49m\n\u001b[32m   1779\u001b[39m \u001b[43m    \u001b[49m\u001b[43minner\u001b[49m\u001b[43m=\u001b[49m\u001b[43minner\u001b[49m\u001b[43m,\u001b[49m\n\u001b[32m   1780\u001b[39m \u001b[43m    \u001b[49m\u001b[43mdensity_norm\u001b[49m\u001b[43m=\u001b[49m\u001b[43mdensity_norm\u001b[49m\u001b[43m,\u001b[49m\n\u001b[32m   1781\u001b[39m \u001b[43m    \u001b[49m\u001b[43mcommon_norm\u001b[49m\u001b[43m=\u001b[49m\u001b[43mcommon_norm\u001b[49m\u001b[43m,\u001b[49m\n\u001b[32m   1782\u001b[39m \u001b[43m    \u001b[49m\u001b[43mkde_kws\u001b[49m\u001b[43m=\u001b[49m\u001b[43mkde_kws\u001b[49m\u001b[43m,\u001b[49m\n\u001b[32m   1783\u001b[39m \u001b[43m    \u001b[49m\u001b[43minner_kws\u001b[49m\u001b[43m=\u001b[49m\u001b[43minner_kws\u001b[49m\u001b[43m,\u001b[49m\n\u001b[32m   1784\u001b[39m \u001b[43m    \u001b[49m\u001b[43mplot_kws\u001b[49m\u001b[43m=\u001b[49m\u001b[43mkwargs\u001b[49m\u001b[43m,\u001b[49m\n\u001b[32m   1785\u001b[39m \u001b[43m\u001b[49m\u001b[43m)\u001b[49m\n\u001b[32m   1787\u001b[39m p._add_axis_labels(ax)\n\u001b[32m   1788\u001b[39m p._adjust_cat_axis(ax, axis=p.orient)\n",
      "\u001b[36mFile \u001b[39m\u001b[32mf:\\Code\\CST577DataScience\\Assignment2\\venv\\Lib\\site-packages\\seaborn\\categorical.py:934\u001b[39m, in \u001b[36m_CategoricalPlotter.plot_violins\u001b[39m\u001b[34m(self, width, dodge, gap, split, color, fill, linecolor, linewidth, inner, density_norm, common_norm, kde_kws, inner_kws, plot_kws)\u001b[39m\n\u001b[32m    929\u001b[39m \u001b[38;5;28;01mfor\u001b[39;00m sub_vars, sub_data \u001b[38;5;129;01min\u001b[39;00m \u001b[38;5;28mself\u001b[39m.iter_data(iter_vars,\n\u001b[32m    930\u001b[39m                                          from_comp_data=\u001b[38;5;28;01mTrue\u001b[39;00m,\n\u001b[32m    931\u001b[39m                                          allow_empty=\u001b[38;5;28;01mFalse\u001b[39;00m):\n\u001b[32m    933\u001b[39m     sub_data[\u001b[33m\"\u001b[39m\u001b[33mweight\u001b[39m\u001b[33m\"\u001b[39m] = sub_data.get(\u001b[33m\"\u001b[39m\u001b[33mweights\u001b[39m\u001b[33m\"\u001b[39m, \u001b[32m1\u001b[39m)\n\u001b[32m--> \u001b[39m\u001b[32m934\u001b[39m     stat_data = \u001b[43mkde\u001b[49m\u001b[43m.\u001b[49m\u001b[43m_transform\u001b[49m\u001b[43m(\u001b[49m\u001b[43msub_data\u001b[49m\u001b[43m,\u001b[49m\u001b[43m \u001b[49m\u001b[43mvalue_var\u001b[49m\u001b[43m,\u001b[49m\u001b[43m \u001b[49m\u001b[43m[\u001b[49m\u001b[43m]\u001b[49m\u001b[43m)\u001b[49m\n\u001b[32m    936\u001b[39m     maincolor = \u001b[38;5;28mself\u001b[39m._hue_map(sub_vars[\u001b[33m\"\u001b[39m\u001b[33mhue\u001b[39m\u001b[33m\"\u001b[39m]) \u001b[38;5;28;01mif\u001b[39;00m \u001b[33m\"\u001b[39m\u001b[33mhue\u001b[39m\u001b[33m\"\u001b[39m \u001b[38;5;129;01min\u001b[39;00m sub_vars \u001b[38;5;28;01melse\u001b[39;00m color\n\u001b[32m    937\u001b[39m     \u001b[38;5;28;01mif\u001b[39;00m \u001b[38;5;129;01mnot\u001b[39;00m fill:\n",
      "\u001b[36mFile \u001b[39m\u001b[32mf:\\Code\\CST577DataScience\\Assignment2\\venv\\Lib\\site-packages\\seaborn\\_stats\\density.py:168\u001b[39m, in \u001b[36mKDE._transform\u001b[39m\u001b[34m(self, data, orient, grouping_vars)\u001b[39m\n\u001b[32m    166\u001b[39m grouping_vars = [x \u001b[38;5;28;01mfor\u001b[39;00m x \u001b[38;5;129;01min\u001b[39;00m grouping_vars \u001b[38;5;28;01mif\u001b[39;00m data[x].nunique() > \u001b[32m1\u001b[39m]\n\u001b[32m    167\u001b[39m \u001b[38;5;28;01mif\u001b[39;00m \u001b[38;5;129;01mnot\u001b[39;00m grouping_vars:\n\u001b[32m--> \u001b[39m\u001b[32m168\u001b[39m     \u001b[38;5;28;01mreturn\u001b[39;00m \u001b[38;5;28;43mself\u001b[39;49m\u001b[43m.\u001b[49m\u001b[43m_fit_and_evaluate\u001b[49m\u001b[43m(\u001b[49m\u001b[43mdata\u001b[49m\u001b[43m,\u001b[49m\u001b[43m \u001b[49m\u001b[43morient\u001b[49m\u001b[43m,\u001b[49m\u001b[43m \u001b[49m\u001b[43msupport\u001b[49m\u001b[43m)\u001b[49m\n\u001b[32m    169\u001b[39m groupby = GroupBy(grouping_vars)\n\u001b[32m    170\u001b[39m \u001b[38;5;28;01mreturn\u001b[39;00m groupby.apply(data, \u001b[38;5;28mself\u001b[39m._fit_and_evaluate, orient, support)\n",
      "\u001b[36mFile \u001b[39m\u001b[32mf:\\Code\\CST577DataScience\\Assignment2\\venv\\Lib\\site-packages\\seaborn\\_stats\\density.py:149\u001b[39m, in \u001b[36mKDE._fit_and_evaluate\u001b[39m\u001b[34m(self, data, orient, support)\u001b[39m\n\u001b[32m    147\u001b[39m     density = np.array([kde.integrate_box_1d(s_0, s_i) \u001b[38;5;28;01mfor\u001b[39;00m s_i \u001b[38;5;129;01min\u001b[39;00m support])\n\u001b[32m    148\u001b[39m \u001b[38;5;28;01melse\u001b[39;00m:\n\u001b[32m--> \u001b[39m\u001b[32m149\u001b[39m     density = \u001b[43mkde\u001b[49m\u001b[43m(\u001b[49m\u001b[43msupport\u001b[49m\u001b[43m)\u001b[49m\n\u001b[32m    151\u001b[39m weight = data[\u001b[33m\"\u001b[39m\u001b[33mweight\u001b[39m\u001b[33m\"\u001b[39m].sum()\n\u001b[32m    152\u001b[39m \u001b[38;5;28;01mreturn\u001b[39;00m pd.DataFrame({orient: support, \u001b[33m\"\u001b[39m\u001b[33mweight\u001b[39m\u001b[33m\"\u001b[39m: weight, \u001b[33m\"\u001b[39m\u001b[33mdensity\u001b[39m\u001b[33m\"\u001b[39m: density})\n",
      "\u001b[36mFile \u001b[39m\u001b[32mf:\\Code\\CST577DataScience\\Assignment2\\venv\\Lib\\site-packages\\seaborn\\external\\kde.py:247\u001b[39m, in \u001b[36mgaussian_kde.evaluate\u001b[39m\u001b[34m(self, points)\u001b[39m\n\u001b[32m    244\u001b[39m output_dtype = np.common_type(\u001b[38;5;28mself\u001b[39m.covariance, points)\n\u001b[32m    245\u001b[39m result = zeros((m,), dtype=output_dtype)\n\u001b[32m--> \u001b[39m\u001b[32m247\u001b[39m whitening = \u001b[43mlinalg\u001b[49m\u001b[43m.\u001b[49m\u001b[43mcholesky\u001b[49m\u001b[43m(\u001b[49m\u001b[38;5;28;43mself\u001b[39;49m\u001b[43m.\u001b[49m\u001b[43minv_cov\u001b[49m\u001b[43m)\u001b[49m\n\u001b[32m    248\u001b[39m scaled_dataset = dot(whitening, \u001b[38;5;28mself\u001b[39m.dataset)\n\u001b[32m    249\u001b[39m scaled_points = dot(whitening, points)\n",
      "\u001b[36mFile \u001b[39m\u001b[32mf:\\Code\\CST577DataScience\\Assignment2\\venv\\Lib\\site-packages\\numpy\\linalg\\_linalg.py:897\u001b[39m, in \u001b[36mcholesky\u001b[39m\u001b[34m(a, upper)\u001b[39m\n\u001b[32m    894\u001b[39m signature = \u001b[33m'\u001b[39m\u001b[33mD->D\u001b[39m\u001b[33m'\u001b[39m \u001b[38;5;28;01mif\u001b[39;00m isComplexType(t) \u001b[38;5;28;01melse\u001b[39;00m \u001b[33m'\u001b[39m\u001b[33md->d\u001b[39m\u001b[33m'\u001b[39m\n\u001b[32m    895\u001b[39m \u001b[38;5;28;01mwith\u001b[39;00m errstate(call=_raise_linalgerror_nonposdef, invalid=\u001b[33m'\u001b[39m\u001b[33mcall\u001b[39m\u001b[33m'\u001b[39m,\n\u001b[32m    896\u001b[39m               over=\u001b[33m'\u001b[39m\u001b[33mignore\u001b[39m\u001b[33m'\u001b[39m, divide=\u001b[33m'\u001b[39m\u001b[33mignore\u001b[39m\u001b[33m'\u001b[39m, under=\u001b[33m'\u001b[39m\u001b[33mignore\u001b[39m\u001b[33m'\u001b[39m):\n\u001b[32m--> \u001b[39m\u001b[32m897\u001b[39m     r = \u001b[43mgufunc\u001b[49m\u001b[43m(\u001b[49m\u001b[43ma\u001b[49m\u001b[43m,\u001b[49m\u001b[43m \u001b[49m\u001b[43msignature\u001b[49m\u001b[43m=\u001b[49m\u001b[43msignature\u001b[49m\u001b[43m)\u001b[49m\n\u001b[32m    898\u001b[39m \u001b[38;5;28;01mreturn\u001b[39;00m wrap(r.astype(result_t, copy=\u001b[38;5;28;01mFalse\u001b[39;00m))\n",
      "\u001b[36mFile \u001b[39m\u001b[32mf:\\Code\\CST577DataScience\\Assignment2\\venv\\Lib\\site-packages\\numpy\\linalg\\_linalg.py:166\u001b[39m, in \u001b[36m_raise_linalgerror_nonposdef\u001b[39m\u001b[34m(err, flag)\u001b[39m\n\u001b[32m    165\u001b[39m \u001b[38;5;28;01mdef\u001b[39;00m\u001b[38;5;250m \u001b[39m\u001b[34m_raise_linalgerror_nonposdef\u001b[39m(err, flag):\n\u001b[32m--> \u001b[39m\u001b[32m166\u001b[39m     \u001b[38;5;28;01mraise\u001b[39;00m LinAlgError(\u001b[33m\"\u001b[39m\u001b[33mMatrix is not positive definite\u001b[39m\u001b[33m\"\u001b[39m)\n",
      "\u001b[31mLinAlgError\u001b[39m: Matrix is not positive definite"
     ]
    },
    {
     "data": {
      "image/png": "[encoded data removed]",
      "text/plain": [
       "<Figure size 200x200 with 1 Axes>"
      ]
     },
     "metadata": {},
     "output_type": "display_data"
    }
   ],
   "source": [
    "plt.figure(figsize=(2,2))\n",
    "sns.violinplot(x = df_full['v4'])\n",
    "sns.violinplot(x = df_full['v5'])"
   ]
  },
  {
   "cell_type": "markdown",
   "id": "52d9ba9f",
   "metadata": {},
   "source": [
    "## Part III - Sampling and Convergence"
   ]
  },
  {
   "cell_type": "markdown",
   "id": "c9198364",
   "metadata": {},
   "source": [
    "3.1) Create a variable \"pareto\" that is a list of 10,000 samples from a Pareto distribution with shape parameter = 1.2 (usually denoted a or alpha). Add this list \"pareto\" as a column to your dataframe from Part II"
   ]
  },
  {
   "cell_type": "code",
   "execution_count": 373,
   "id": "1da7dea3",
   "metadata": {},
   "outputs": [
    {
     "data": {
      "text/html": [
       "<div>\n",
       "<style scoped>\n",
       "    .dataframe tbody tr th:only-of-type {\n",
       "        vertical-align: middle;\n",
       "    }\n",
       "\n",
       "    .dataframe tbody tr th {\n",
       "        vertical-align: top;\n",
       "    }\n",
       "\n",
       "    .dataframe thead th {\n",
       "        text-align: right;\n",
       "    }\n",
       "</style>\n",
       "<table border=\"1\" class=\"dataframe\">\n",
       "  <thead>\n",
       "    <tr style=\"text-align: right;\">\n",
       "      <th></th>\n",
       "      <th>v1</th>\n",
       "      <th>v2</th>\n",
       "      <th>v3</th>\n",
       "      <th>v4</th>\n",
       "      <th>v5</th>\n",
       "      <th>noise</th>\n",
       "      <th>pareto</th>\n",
       "    </tr>\n",
       "  </thead>\n",
       "  <tbody>\n",
       "    <tr>\n",
       "      <th>0</th>\n",
       "      <td>4</td>\n",
       "      <td>-3.983711</td>\n",
       "      <td>5.459815e+01</td>\n",
       "      <td>4.661444e+01</td>\n",
       "      <td>1.861642e-02</td>\n",
       "      <td>-7.983711</td>\n",
       "      <td>3.530570</td>\n",
       "    </tr>\n",
       "    <tr>\n",
       "      <th>1</th>\n",
       "      <td>7</td>\n",
       "      <td>12.255261</td>\n",
       "      <td>1.096633e+03</td>\n",
       "      <td>1.101888e+03</td>\n",
       "      <td>2.100836e+05</td>\n",
       "      <td>5.255261</td>\n",
       "      <td>0.052139</td>\n",
       "    </tr>\n",
       "    <tr>\n",
       "      <th>2</th>\n",
       "      <td>10</td>\n",
       "      <td>8.331621</td>\n",
       "      <td>2.202647e+04</td>\n",
       "      <td>2.202480e+04</td>\n",
       "      <td>4.153144e+03</td>\n",
       "      <td>-1.668379</td>\n",
       "      <td>0.198059</td>\n",
       "    </tr>\n",
       "    <tr>\n",
       "      <th>3</th>\n",
       "      <td>13</td>\n",
       "      <td>7.069145</td>\n",
       "      <td>4.424134e+05</td>\n",
       "      <td>4.424075e+05</td>\n",
       "      <td>1.175143e+03</td>\n",
       "      <td>-5.930855</td>\n",
       "      <td>0.347365</td>\n",
       "    </tr>\n",
       "    <tr>\n",
       "      <th>4</th>\n",
       "      <td>16</td>\n",
       "      <td>29.674236</td>\n",
       "      <td>8.886111e+06</td>\n",
       "      <td>8.886124e+06</td>\n",
       "      <td>7.715375e+12</td>\n",
       "      <td>13.674236</td>\n",
       "      <td>0.567922</td>\n",
       "    </tr>\n",
       "    <tr>\n",
       "      <th>...</th>\n",
       "      <td>...</td>\n",
       "      <td>...</td>\n",
       "      <td>...</td>\n",
       "      <td>...</td>\n",
       "      <td>...</td>\n",
       "      <td>...</td>\n",
       "      <td>...</td>\n",
       "    </tr>\n",
       "    <tr>\n",
       "      <th>9995</th>\n",
       "      <td>29989</td>\n",
       "      <td>30015.871139</td>\n",
       "      <td>inf</td>\n",
       "      <td>inf</td>\n",
       "      <td>inf</td>\n",
       "      <td>26.871139</td>\n",
       "      <td>1.597870</td>\n",
       "    </tr>\n",
       "    <tr>\n",
       "      <th>9996</th>\n",
       "      <td>29992</td>\n",
       "      <td>29995.639811</td>\n",
       "      <td>inf</td>\n",
       "      <td>inf</td>\n",
       "      <td>inf</td>\n",
       "      <td>3.639811</td>\n",
       "      <td>0.789294</td>\n",
       "    </tr>\n",
       "    <tr>\n",
       "      <th>9997</th>\n",
       "      <td>29995</td>\n",
       "      <td>30002.761455</td>\n",
       "      <td>inf</td>\n",
       "      <td>inf</td>\n",
       "      <td>inf</td>\n",
       "      <td>7.761455</td>\n",
       "      <td>0.069789</td>\n",
       "    </tr>\n",
       "    <tr>\n",
       "      <th>9998</th>\n",
       "      <td>29998</td>\n",
       "      <td>30012.853776</td>\n",
       "      <td>inf</td>\n",
       "      <td>inf</td>\n",
       "      <td>inf</td>\n",
       "      <td>14.853776</td>\n",
       "      <td>0.252792</td>\n",
       "    </tr>\n",
       "    <tr>\n",
       "      <th>9999</th>\n",
       "      <td>30001</td>\n",
       "      <td>29994.429830</td>\n",
       "      <td>inf</td>\n",
       "      <td>inf</td>\n",
       "      <td>inf</td>\n",
       "      <td>-6.570170</td>\n",
       "      <td>1.369725</td>\n",
       "    </tr>\n",
       "  </tbody>\n",
       "</table>\n",
       "<p>10000 rows × 7 columns</p>\n",
       "</div>"
      ],
      "text/plain": [
       "         v1            v2            v3            v4            v5  \\\n",
       "0         4     -3.983711  5.459815e+01  4.661444e+01  1.861642e-02   \n",
       "1         7     12.255261  1.096633e+03  1.101888e+03  2.100836e+05   \n",
       "2        10      8.331621  2.202647e+04  2.202480e+04  4.153144e+03   \n",
       "3        13      7.069145  4.424134e+05  4.424075e+05  1.175143e+03   \n",
       "4        16     29.674236  8.886111e+06  8.886124e+06  7.715375e+12   \n",
       "...     ...           ...           ...           ...           ...   \n",
       "9995  29989  30015.871139           inf           inf           inf   \n",
       "9996  29992  29995.639811           inf           inf           inf   \n",
       "9997  29995  30002.761455           inf           inf           inf   \n",
       "9998  29998  30012.853776           inf           inf           inf   \n",
       "9999  30001  29994.429830           inf           inf           inf   \n",
       "\n",
       "          noise    pareto  \n",
       "0     -7.983711  3.530570  \n",
       "1      5.255261  0.052139  \n",
       "2     -1.668379  0.198059  \n",
       "3     -5.930855  0.347365  \n",
       "4     13.674236  0.567922  \n",
       "...         ...       ...  \n",
       "9995  26.871139  1.597870  \n",
       "9996   3.639811  0.789294  \n",
       "9997   7.761455  0.069789  \n",
       "9998  14.853776  0.252792  \n",
       "9999  -6.570170  1.369725  \n",
       "\n",
       "[10000 rows x 7 columns]"
      ]
     },
     "execution_count": 373,
     "metadata": {},
     "output_type": "execute_result"
    }
   ],
   "source": [
    "#pareto = np.random.pareto... (can also use scipy)\n",
    "# store pareto shape parameter of 1.2 in variable a \n",
    "n = 10000\n",
    "a = 1.2\n",
    "# create a new random number generator for pareto distribution\n",
    "rng_pareto = np.random.default_rng()\n",
    "# generate n \"random\" numbers using pareto generator and parameters given\n",
    "pareto = rng_pareto.pareto(a, n)\n",
    "pareto\n",
    "df_full['pareto'] = pareto\n",
    "df_full"
   ]
  },
  {
   "cell_type": "markdown",
   "id": "280a2ec6",
   "metadata": {},
   "source": [
    "3.2) Add two more columns to your dataframe labeled \"running_avg_normal\" and \"running_avg_pareto\". In the \"running_avg_normal\" column put the running average of the (unsorted) values in the noise column. For example, if the values in the noise column are [0.1, 0.3, 0.5, ...] then the running average should be [0.1, 0.2, 0.3, ...]. Do the same for the Pareto column.\n",
    "\n",
    "HINT: Check out the .expanding() and .mean() methods for pandas Series objects"
   ]
  },
  {
   "cell_type": "code",
   "execution_count": 375,
   "id": "9235e689",
   "metadata": {},
   "outputs": [
    {
     "data": {
      "text/html": [
       "<div>\n",
       "<style scoped>\n",
       "    .dataframe tbody tr th:only-of-type {\n",
       "        vertical-align: middle;\n",
       "    }\n",
       "\n",
       "    .dataframe tbody tr th {\n",
       "        vertical-align: top;\n",
       "    }\n",
       "\n",
       "    .dataframe thead th {\n",
       "        text-align: right;\n",
       "    }\n",
       "</style>\n",
       "<table border=\"1\" class=\"dataframe\">\n",
       "  <thead>\n",
       "    <tr style=\"text-align: right;\">\n",
       "      <th></th>\n",
       "      <th>v1</th>\n",
       "      <th>v2</th>\n",
       "      <th>v3</th>\n",
       "      <th>v4</th>\n",
       "      <th>v5</th>\n",
       "      <th>noise</th>\n",
       "      <th>pareto</th>\n",
       "      <th>running_avg_normal</th>\n",
       "      <th>running_avg_pareto</th>\n",
       "    </tr>\n",
       "  </thead>\n",
       "  <tbody>\n",
       "    <tr>\n",
       "      <th>0</th>\n",
       "      <td>4</td>\n",
       "      <td>-3.983711</td>\n",
       "      <td>5.459815e+01</td>\n",
       "      <td>4.661444e+01</td>\n",
       "      <td>1.861642e-02</td>\n",
       "      <td>-7.983711</td>\n",
       "      <td>3.530570</td>\n",
       "      <td>-7.983711</td>\n",
       "      <td>3.530570</td>\n",
       "    </tr>\n",
       "    <tr>\n",
       "      <th>1</th>\n",
       "      <td>7</td>\n",
       "      <td>12.255261</td>\n",
       "      <td>1.096633e+03</td>\n",
       "      <td>1.101888e+03</td>\n",
       "      <td>2.100836e+05</td>\n",
       "      <td>5.255261</td>\n",
       "      <td>0.052139</td>\n",
       "      <td>-1.364225</td>\n",
       "      <td>1.791355</td>\n",
       "    </tr>\n",
       "    <tr>\n",
       "      <th>2</th>\n",
       "      <td>10</td>\n",
       "      <td>8.331621</td>\n",
       "      <td>2.202647e+04</td>\n",
       "      <td>2.202480e+04</td>\n",
       "      <td>4.153144e+03</td>\n",
       "      <td>-1.668379</td>\n",
       "      <td>0.198059</td>\n",
       "      <td>-1.465610</td>\n",
       "      <td>1.260256</td>\n",
       "    </tr>\n",
       "    <tr>\n",
       "      <th>3</th>\n",
       "      <td>13</td>\n",
       "      <td>7.069145</td>\n",
       "      <td>4.424134e+05</td>\n",
       "      <td>4.424075e+05</td>\n",
       "      <td>1.175143e+03</td>\n",
       "      <td>-5.930855</td>\n",
       "      <td>0.347365</td>\n",
       "      <td>-2.581921</td>\n",
       "      <td>1.032033</td>\n",
       "    </tr>\n",
       "    <tr>\n",
       "      <th>4</th>\n",
       "      <td>16</td>\n",
       "      <td>29.674236</td>\n",
       "      <td>8.886111e+06</td>\n",
       "      <td>8.886124e+06</td>\n",
       "      <td>7.715375e+12</td>\n",
       "      <td>13.674236</td>\n",
       "      <td>0.567922</td>\n",
       "      <td>0.669310</td>\n",
       "      <td>0.939211</td>\n",
       "    </tr>\n",
       "    <tr>\n",
       "      <th>...</th>\n",
       "      <td>...</td>\n",
       "      <td>...</td>\n",
       "      <td>...</td>\n",
       "      <td>...</td>\n",
       "      <td>...</td>\n",
       "      <td>...</td>\n",
       "      <td>...</td>\n",
       "      <td>...</td>\n",
       "      <td>...</td>\n",
       "    </tr>\n",
       "    <tr>\n",
       "      <th>9995</th>\n",
       "      <td>29989</td>\n",
       "      <td>30015.871139</td>\n",
       "      <td>inf</td>\n",
       "      <td>inf</td>\n",
       "      <td>inf</td>\n",
       "      <td>26.871139</td>\n",
       "      <td>1.597870</td>\n",
       "      <td>-0.026780</td>\n",
       "      <td>4.174782</td>\n",
       "    </tr>\n",
       "    <tr>\n",
       "      <th>9996</th>\n",
       "      <td>29992</td>\n",
       "      <td>29995.639811</td>\n",
       "      <td>inf</td>\n",
       "      <td>inf</td>\n",
       "      <td>inf</td>\n",
       "      <td>3.639811</td>\n",
       "      <td>0.789294</td>\n",
       "      <td>-0.026414</td>\n",
       "      <td>4.174444</td>\n",
       "    </tr>\n",
       "    <tr>\n",
       "      <th>9997</th>\n",
       "      <td>29995</td>\n",
       "      <td>30002.761455</td>\n",
       "      <td>inf</td>\n",
       "      <td>inf</td>\n",
       "      <td>inf</td>\n",
       "      <td>7.761455</td>\n",
       "      <td>0.069789</td>\n",
       "      <td>-0.025635</td>\n",
       "      <td>4.174033</td>\n",
       "    </tr>\n",
       "    <tr>\n",
       "      <th>9998</th>\n",
       "      <td>29998</td>\n",
       "      <td>30012.853776</td>\n",
       "      <td>inf</td>\n",
       "      <td>inf</td>\n",
       "      <td>inf</td>\n",
       "      <td>14.853776</td>\n",
       "      <td>0.252792</td>\n",
       "      <td>-0.024147</td>\n",
       "      <td>4.173641</td>\n",
       "    </tr>\n",
       "    <tr>\n",
       "      <th>9999</th>\n",
       "      <td>30001</td>\n",
       "      <td>29994.429830</td>\n",
       "      <td>inf</td>\n",
       "      <td>inf</td>\n",
       "      <td>inf</td>\n",
       "      <td>-6.570170</td>\n",
       "      <td>1.369725</td>\n",
       "      <td>-0.024801</td>\n",
       "      <td>4.173360</td>\n",
       "    </tr>\n",
       "  </tbody>\n",
       "</table>\n",
       "<p>10000 rows × 9 columns</p>\n",
       "</div>"
      ],
      "text/plain": [
       "         v1            v2            v3            v4            v5  \\\n",
       "0         4     -3.983711  5.459815e+01  4.661444e+01  1.861642e-02   \n",
       "1         7     12.255261  1.096633e+03  1.101888e+03  2.100836e+05   \n",
       "2        10      8.331621  2.202647e+04  2.202480e+04  4.153144e+03   \n",
       "3        13      7.069145  4.424134e+05  4.424075e+05  1.175143e+03   \n",
       "4        16     29.674236  8.886111e+06  8.886124e+06  7.715375e+12   \n",
       "...     ...           ...           ...           ...           ...   \n",
       "9995  29989  30015.871139           inf           inf           inf   \n",
       "9996  29992  29995.639811           inf           inf           inf   \n",
       "9997  29995  30002.761455           inf           inf           inf   \n",
       "9998  29998  30012.853776           inf           inf           inf   \n",
       "9999  30001  29994.429830           inf           inf           inf   \n",
       "\n",
       "          noise    pareto  running_avg_normal  running_avg_pareto  \n",
       "0     -7.983711  3.530570           -7.983711            3.530570  \n",
       "1      5.255261  0.052139           -1.364225            1.791355  \n",
       "2     -1.668379  0.198059           -1.465610            1.260256  \n",
       "3     -5.930855  0.347365           -2.581921            1.032033  \n",
       "4     13.674236  0.567922            0.669310            0.939211  \n",
       "...         ...       ...                 ...                 ...  \n",
       "9995  26.871139  1.597870           -0.026780            4.174782  \n",
       "9996   3.639811  0.789294           -0.026414            4.174444  \n",
       "9997   7.761455  0.069789           -0.025635            4.174033  \n",
       "9998  14.853776  0.252792           -0.024147            4.173641  \n",
       "9999  -6.570170  1.369725           -0.024801            4.173360  \n",
       "\n",
       "[10000 rows x 9 columns]"
      ]
     },
     "execution_count": 375,
     "metadata": {},
     "output_type": "execute_result"
    }
   ],
   "source": [
    "# calculate running average of noise column and add it as \"running_avg_normal\" column\n",
    "df_full['running_avg_normal'] = df_full['noise'].expanding().mean()\n",
    "# calculate running average of pareto column and add it as \"running_avg_pareto\" column\n",
    "df_full['running_avg_pareto']= df_full['pareto'].expanding().mean()\n",
    "df_full"
   ]
  },
  {
   "cell_type": "markdown",
   "id": "7cecaf5e",
   "metadata": {},
   "source": [
    "3.3) Create a lineplot for running_avg_normal and a lineplot for running_avg_Pareto. Remark on your observations."
   ]
  },
  {
   "cell_type": "code",
   "execution_count": 376,
   "id": "5b8f16ba",
   "metadata": {},
   "outputs": [
    {
     "data": {
      "text/plain": [
       "<Axes: >"
      ]
     },
     "execution_count": 376,
     "metadata": {},
     "output_type": "execute_result"
    },
    {
     "data": {
      "image/png": "[encoded data removed]",
      "text/plain": [
       "<Figure size 1200x800 with 1 Axes>"
      ]
     },
     "metadata": {},
     "output_type": "display_data"
    }
   ],
   "source": [
    "d = df_full[['running_avg_normal', 'running_avg_pareto']]\n",
    "sns.lineplot(data = d)"
   ]
  }
 ],
 "metadata": {
  "kernelspec": {
   "display_name": "venv",
   "language": "python",
   "name": "python3"
  },
  "language_info": {
   "codemirror_mode": {
    "name": "ipython",
    "version": 3
   },
   "file_extension": ".py",
   "mimetype": "text/x-python",
   "name": "python",
   "nbconvert_exporter": "python",
   "pygments_lexer": "ipython3",
   "version": "3.13.7"
  }
 },
 "nbformat": 4,
 "nbformat_minor": 5
}
