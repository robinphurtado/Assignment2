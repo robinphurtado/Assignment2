{
 "cells": [
  {
   "cell_type": "markdown",
   "id": "a60e72d2",
   "metadata": {},
   "source": [
    "# Assignment 2\n",
    "\n",
    "Read all instructions carefully"
   ]
  },
  {
   "cell_type": "markdown",
   "id": "cda830bb",
   "metadata": {},
   "source": [
    "## Work Requirements\n",
    "\n",
    "- You must work on Assignment 2 alone. You may not work with partners.\n",
    "- You may use online resources (Stack Exchange, Googling, Regex cheat sheets), including documentation and everything on Canvas. However, you may not use an LLM (ChatGPT, Copilot, etc)\n",
    "- Lightly document your code, especially any decisions you make along the way. You do not need extensive documentation. You do **NOT** need a separate README file. But a person should be able to read your submission top to bottom and understand what you're doing."
   ]
  },
  {
   "cell_type": "markdown",
   "id": "0c706db0",
   "metadata": {},
   "source": [
    "## Submission Instructions\n",
    "\n",
    "- This assignment is due on **Monday, October 6 at 6:59pm**.\n",
    "- The assignment must be submitted on Canvas as a single PDF file together with a requirements.txt file (as a text file, not PDF). The two files must be submitted as separate files, not as a zip file.\n",
    "- The PDF file you submit must be named with the following format \"lastname_firstname_assignment2.pdf\"\n",
    "- The requirements.txt file should only include the libraries you need to run your code in a Jupyter notebook, with their versions properly specified (e.g., use pip freeze with your venv activated)"
   ]
  },
  {
   "cell_type": "markdown",
   "id": "6a7cecea",
   "metadata": {},
   "source": [
    "## Recommendations and Resources"
   ]
  },
  {
   "cell_type": "markdown",
   "id": "bdb1b0ea",
   "metadata": {},
   "source": [
    "**Recommendation:** Complete the assignment in a Jupyter notebook, and then convert the notebook to a PDF. If you have too much trouble converting to PDF, then convert it to HTML, open it as HTML and export that page to PDF (but this is a less preferred option)."
   ]
  },
  {
   "cell_type": "markdown",
   "id": "fdab2786",
   "metadata": {},
   "source": [
    "**Recommendation:** As always, start by examining the data you read in and understand it. What does each row represent in each dataframe?"
   ]
  },
  {
   "cell_type": "markdown",
   "id": "30696280",
   "metadata": {},
   "source": [
    "**Helpful Documentation:**\n",
    "- Pandas expanding: https://pandas.pydata.org/pandas-docs/stable/reference/api/pandas.DataFrame.expanding.html#pandas.DataFrame.expanding\n",
    "- Python re library for Regex: https://docs.python.org/3/library/re.html\n",
    "- Pareto: https://numpy.org/doc/stable/reference/random/generated/numpy.random.pareto.html#numpy.random.pareto\n",
    "- Gaussian: https://numpy.org/doc/stable/reference/random/generated/numpy.random.normal.html#numpy-random-normal\n",
    "- Seaborn Boxplot: https://seaborn.pydata.org/generated/seaborn.boxplot.html\n",
    "- Seaborn Scatterplot: https://seaborn.pydata.org/generated/seaborn.scatterplot.html\n",
    "- Matplotlib scatterplot: https://matplotlib.org/stable/api/_as_gen/matplotlib.pyplot.scatter.html\n",
    "- Matplotlib boxplot: https://matplotlib.org/stable/api/_as_gen/matplotlib.pyplot.boxplot.html#"
   ]
  },
  {
   "cell_type": "markdown",
   "id": "2809f8a2",
   "metadata": {},
   "source": [
    "# Part 0 - Imports and CoW"
   ]
  },
  {
   "cell_type": "code",
   "execution_count": 187,
   "id": "a43c1f82",
   "metadata": {},
   "outputs": [],
   "source": [
    "from pathlib import Path\n",
    "import pandas as pd  # need to import pandas first.\n",
    "\n",
    "# Enforce Copy-on-Write\n",
    "pd.set_option(\"mode.copy_on_write\", True)"
   ]
  },
  {
   "cell_type": "code",
   "execution_count": 188,
   "id": "a2120e22",
   "metadata": {},
   "outputs": [],
   "source": [
    "# Import libraries\n",
    "import numpy as np\n",
    "# import pandas as pd  -- imported above to run pd.set_option\n",
    "import matplotlib.pyplot as plt\n",
    "import seaborn as sns\n",
    "import re"
   ]
  },
  {
   "cell_type": "code",
   "execution_count": 189,
   "id": "9a9085f4",
   "metadata": {},
   "outputs": [],
   "source": [
    "# set standard paths\n",
    "cwd = Path().cwd() #set our cwd\n",
    "project_folder = cwd.parent #set our project folder as the cwd parent"
   ]
  },
  {
   "cell_type": "markdown",
   "id": "b455bbff",
   "metadata": {},
   "source": [
    "# Part 1 - Regex, EDA, and Visualization"
   ]
  },
  {
   "cell_type": "markdown",
   "id": "38a38bb2",
   "metadata": {},
   "source": [
    "Load the Food Safety datasets (bus.csv, ins2vio.csv, ins.csv, and vio.csv) into pandas dataframes and answer the following questions based on the dataframes."
   ]
  },
  {
   "cell_type": "code",
   "execution_count": 190,
   "id": "932d1aaf",
   "metadata": {},
   "outputs": [],
   "source": [
    "#Load the datasets into Pandas DataFrames\n",
    "\n",
    "# contruct the path to and retrieve the file that holds the info regarding the buinesses\n",
    "bus_dataset_path = Path('data/bus.csv') # using a data folder makes life easier\n",
    "bus_file = project_folder / bus_dataset_path # join the project folder with the dataset path\n",
    "if not bus_file.exists():  # error catching in case the file is not found\n",
    "\traise FileNotFoundError(f\"Dataset file not found: {bus_file}\")\n",
    "\n",
    "# contruct the path to and retrieve the file that holds the info regarding the inspections\n",
    "ins_dataset_path = Path('data/ins.csv') #using a data folder makes life easier\n",
    "ins_file = project_folder / ins_dataset_path #join the project folder with the dataset path\n",
    "if not ins_file.exists():\n",
    "\traise FileNotFoundError(f\"Dataset file not found: {ins_file}\")\n",
    "\n",
    "# contruct the path to and retrieve the file that holds the relation from inspection to violation\n",
    "ins2vio_dataset_path = Path('data/ins2vio.csv') #using a data folder makes life easier\n",
    "ins2vio_file = project_folder / ins2vio_dataset_path #join the project folder with the dataset path\n",
    "if not ins2vio_file.exists(): # error catching in case the file is not found\n",
    "\traise FileNotFoundError(f\"Dataset file not found: {ins2vio_file}\")\n",
    "\n",
    "# contruct the path to and retrieve the file that holds the info regarding the violations\n",
    "vio_dataset_path = Path('data/vio.csv') #using a data folder makes life easier\n",
    "vio_file = project_folder / vio_dataset_path #join the project folder with the dataset path\n",
    "if not vio_file.exists(): # error catching in case the file is not found\n",
    "\traise FileNotFoundError(f\"Dataset file not found: {vio_file}\")\n",
    "\n",
    "# store each file in a dataframe\n",
    "df_bus = pd.read_csv(bus_file)\n",
    "df_ins = pd.read_csv(ins_file)\n",
    "df_i2v = pd.read_csv(ins2vio_file)\n",
    "df_vio = pd.read_csv(vio_file)"
   ]
  },
  {
   "cell_type": "markdown",
   "id": "549eb518",
   "metadata": {},
   "source": [
    "Use the business dataset (bus) to answer the first few questions below"
   ]
  },
  {
   "cell_type": "markdown",
   "id": "ca29e33f",
   "metadata": {},
   "source": [
    "1.1) Examining the entries in `bus`, is the `bid` unique for each record (i.e. each row of data)?\n",
    "\n",
    "Hint: use `value_counts()` or `unique()` to determine if the `bid` series has any duplicates."
   ]
  },
  {
   "cell_type": "code",
   "execution_count": 191,
   "id": "9d69b5a9",
   "metadata": {},
   "outputs": [
    {
     "name": "stdout",
     "output_type": "stream",
     "text": [
      "The entries in the bid column of the bus file are unique:  True\n"
     ]
    }
   ],
   "source": [
    "# compare the number of unique elements in the column with the number of elements in column to find out if the bid column is unique\n",
    "is_unique = df_bus['business id column'].unique().size == df_bus['business id column'].size\n",
    "print('The entries in the bid column of the bus file are unique: ', is_unique)"
   ]
  },
  {
   "cell_type": "markdown",
   "id": "fa046713",
   "metadata": {},
   "source": [
    "*Exploring the data*"
   ]
  },
  {
   "cell_type": "code",
   "execution_count": 192,
   "id": "8de6b3be",
   "metadata": {},
   "outputs": [
    {
     "data": {
      "text/html": [
       "<div>\n",
       "<style scoped>\n",
       "    .dataframe tbody tr th:only-of-type {\n",
       "        vertical-align: middle;\n",
       "    }\n",
       "\n",
       "    .dataframe tbody tr th {\n",
       "        vertical-align: top;\n",
       "    }\n",
       "\n",
       "    .dataframe thead th {\n",
       "        text-align: right;\n",
       "    }\n",
       "</style>\n",
       "<table border=\"1\" class=\"dataframe\">\n",
       "  <thead>\n",
       "    <tr style=\"text-align: right;\">\n",
       "      <th></th>\n",
       "      <th>business id column</th>\n",
       "      <th>name</th>\n",
       "      <th>address</th>\n",
       "      <th>city</th>\n",
       "      <th>state</th>\n",
       "      <th>postal_code</th>\n",
       "      <th>latitude</th>\n",
       "      <th>longitude</th>\n",
       "      <th>phone_number</th>\n",
       "    </tr>\n",
       "  </thead>\n",
       "  <tbody>\n",
       "    <tr>\n",
       "      <th>0</th>\n",
       "      <td>1000</td>\n",
       "      <td>HEUNG YUEN RESTAURANT</td>\n",
       "      <td>3279 22nd St</td>\n",
       "      <td>San Francisco</td>\n",
       "      <td>CA</td>\n",
       "      <td>94110</td>\n",
       "      <td>37.755282</td>\n",
       "      <td>-122.420493</td>\n",
       "      <td>-9999</td>\n",
       "    </tr>\n",
       "    <tr>\n",
       "      <th>1</th>\n",
       "      <td>100010</td>\n",
       "      <td>ILLY CAFFE SF_PIER 39</td>\n",
       "      <td>PIER 39  K-106-B</td>\n",
       "      <td>San Francisco</td>\n",
       "      <td>CA</td>\n",
       "      <td>94133</td>\n",
       "      <td>-9999.000000</td>\n",
       "      <td>-9999.000000</td>\n",
       "      <td>14154827284</td>\n",
       "    </tr>\n",
       "    <tr>\n",
       "      <th>2</th>\n",
       "      <td>100017</td>\n",
       "      <td>AMICI'S EAST COAST PIZZERIA</td>\n",
       "      <td>475 06th St</td>\n",
       "      <td>San Francisco</td>\n",
       "      <td>CA</td>\n",
       "      <td>94103</td>\n",
       "      <td>-9999.000000</td>\n",
       "      <td>-9999.000000</td>\n",
       "      <td>14155279839</td>\n",
       "    </tr>\n",
       "    <tr>\n",
       "      <th>3</th>\n",
       "      <td>100026</td>\n",
       "      <td>LOCAL CATERING</td>\n",
       "      <td>1566 CARROLL AVE</td>\n",
       "      <td>San Francisco</td>\n",
       "      <td>CA</td>\n",
       "      <td>94124</td>\n",
       "      <td>-9999.000000</td>\n",
       "      <td>-9999.000000</td>\n",
       "      <td>14155860315</td>\n",
       "    </tr>\n",
       "    <tr>\n",
       "      <th>4</th>\n",
       "      <td>100030</td>\n",
       "      <td>OUI OUI! MACARON</td>\n",
       "      <td>2200 JERROLD AVE STE C</td>\n",
       "      <td>San Francisco</td>\n",
       "      <td>CA</td>\n",
       "      <td>94124</td>\n",
       "      <td>-9999.000000</td>\n",
       "      <td>-9999.000000</td>\n",
       "      <td>14159702675</td>\n",
       "    </tr>\n",
       "  </tbody>\n",
       "</table>\n",
       "</div>"
      ],
      "text/plain": [
       "   business id column                         name                 address  \\\n",
       "0                1000        HEUNG YUEN RESTAURANT            3279 22nd St   \n",
       "1              100010        ILLY CAFFE SF_PIER 39        PIER 39  K-106-B   \n",
       "2              100017  AMICI'S EAST COAST PIZZERIA             475 06th St   \n",
       "3              100026               LOCAL CATERING        1566 CARROLL AVE   \n",
       "4              100030             OUI OUI! MACARON  2200 JERROLD AVE STE C   \n",
       "\n",
       "            city state postal_code     latitude    longitude  phone_number  \n",
       "0  San Francisco    CA       94110    37.755282  -122.420493         -9999  \n",
       "1  San Francisco    CA       94133 -9999.000000 -9999.000000   14154827284  \n",
       "2  San Francisco    CA       94103 -9999.000000 -9999.000000   14155279839  \n",
       "3  San Francisco    CA       94124 -9999.000000 -9999.000000   14155860315  \n",
       "4  San Francisco    CA       94124 -9999.000000 -9999.000000   14159702675  "
      ]
     },
     "execution_count": 192,
     "metadata": {},
     "output_type": "execute_result"
    }
   ],
   "source": [
    "# take a peek at the dataframe\n",
    "df_bus.head()"
   ]
  },
  {
   "cell_type": "code",
   "execution_count": 193,
   "id": "94154de9",
   "metadata": {},
   "outputs": [
    {
     "data": {
      "text/plain": [
       "Index(['business id column', 'name', 'address', 'city', 'state', 'postal_code',\n",
       "       'latitude', 'longitude', 'phone_number'],\n",
       "      dtype='object')"
      ]
     },
     "execution_count": 193,
     "metadata": {},
     "output_type": "execute_result"
    }
   ],
   "source": [
    "# take a look at the columns of the business dataframe\n",
    "df_bus.columns"
   ]
  },
  {
   "cell_type": "code",
   "execution_count": 194,
   "id": "28f6f106",
   "metadata": {},
   "outputs": [
    {
     "data": {
      "text/html": [
       "<div>\n",
       "<style scoped>\n",
       "    .dataframe tbody tr th:only-of-type {\n",
       "        vertical-align: middle;\n",
       "    }\n",
       "\n",
       "    .dataframe tbody tr th {\n",
       "        vertical-align: top;\n",
       "    }\n",
       "\n",
       "    .dataframe thead th {\n",
       "        text-align: right;\n",
       "    }\n",
       "</style>\n",
       "<table border=\"1\" class=\"dataframe\">\n",
       "  <thead>\n",
       "    <tr style=\"text-align: right;\">\n",
       "      <th></th>\n",
       "      <th>business id column</th>\n",
       "      <th>latitude</th>\n",
       "      <th>longitude</th>\n",
       "      <th>phone_number</th>\n",
       "    </tr>\n",
       "  </thead>\n",
       "  <tbody>\n",
       "    <tr>\n",
       "      <th>count</th>\n",
       "      <td>6253.000000</td>\n",
       "      <td>6253.000000</td>\n",
       "      <td>6253.000000</td>\n",
       "      <td>6.253000e+03</td>\n",
       "    </tr>\n",
       "    <tr>\n",
       "      <th>mean</th>\n",
       "      <td>60448.948984</td>\n",
       "      <td>-5575.337966</td>\n",
       "      <td>-5645.817699</td>\n",
       "      <td>4.701819e+09</td>\n",
       "    </tr>\n",
       "    <tr>\n",
       "      <th>std</th>\n",
       "      <td>36480.132445</td>\n",
       "      <td>4983.390142</td>\n",
       "      <td>4903.993683</td>\n",
       "      <td>6.667508e+09</td>\n",
       "    </tr>\n",
       "    <tr>\n",
       "      <th>min</th>\n",
       "      <td>19.000000</td>\n",
       "      <td>-9999.000000</td>\n",
       "      <td>-9999.000000</td>\n",
       "      <td>-9.999000e+03</td>\n",
       "    </tr>\n",
       "    <tr>\n",
       "      <th>25%</th>\n",
       "      <td>18399.000000</td>\n",
       "      <td>-9999.000000</td>\n",
       "      <td>-9999.000000</td>\n",
       "      <td>-9.999000e+03</td>\n",
       "    </tr>\n",
       "    <tr>\n",
       "      <th>50%</th>\n",
       "      <td>75685.000000</td>\n",
       "      <td>-9999.000000</td>\n",
       "      <td>-9999.000000</td>\n",
       "      <td>-9.999000e+03</td>\n",
       "    </tr>\n",
       "    <tr>\n",
       "      <th>75%</th>\n",
       "      <td>90886.000000</td>\n",
       "      <td>37.776494</td>\n",
       "      <td>-122.421553</td>\n",
       "      <td>1.415533e+10</td>\n",
       "    </tr>\n",
       "    <tr>\n",
       "      <th>max</th>\n",
       "      <td>102705.000000</td>\n",
       "      <td>37.824494</td>\n",
       "      <td>0.000000</td>\n",
       "      <td>1.415988e+10</td>\n",
       "    </tr>\n",
       "  </tbody>\n",
       "</table>\n",
       "</div>"
      ],
      "text/plain": [
       "       business id column     latitude    longitude  phone_number\n",
       "count         6253.000000  6253.000000  6253.000000  6.253000e+03\n",
       "mean         60448.948984 -5575.337966 -5645.817699  4.701819e+09\n",
       "std          36480.132445  4983.390142  4903.993683  6.667508e+09\n",
       "min             19.000000 -9999.000000 -9999.000000 -9.999000e+03\n",
       "25%          18399.000000 -9999.000000 -9999.000000 -9.999000e+03\n",
       "50%          75685.000000 -9999.000000 -9999.000000 -9.999000e+03\n",
       "75%          90886.000000    37.776494  -122.421553  1.415533e+10\n",
       "max         102705.000000    37.824494     0.000000  1.415988e+10"
      ]
     },
     "execution_count": 194,
     "metadata": {},
     "output_type": "execute_result"
    }
   ],
   "source": [
    "# take a look at some stats of the numeric columns of the business dataframe\n",
    "df_bus.describe()"
   ]
  },
  {
   "cell_type": "code",
   "execution_count": 195,
   "id": "e23a73bb",
   "metadata": {},
   "outputs": [
    {
     "data": {
      "text/plain": [
       "business id column      int64\n",
       "name                   object\n",
       "address                object\n",
       "city                   object\n",
       "state                  object\n",
       "postal_code            object\n",
       "latitude              float64\n",
       "longitude             float64\n",
       "phone_number            int64\n",
       "dtype: object"
      ]
     },
     "execution_count": 195,
     "metadata": {},
     "output_type": "execute_result"
    }
   ],
   "source": [
    "# describe() showed that not all columns are numeric. Explore the datatypes of all columns\n",
    "df_bus.dtypes"
   ]
  },
  {
   "cell_type": "markdown",
   "id": "936a20ab",
   "metadata": {},
   "source": [
    "*In exploring here and in excel, as well as the info given in the textbook, these tables appear to be as follows:*\n",
    "\n",
    "*bus - a table of businesses and their address, phone number, and other location info.  One row is one business*\n",
    "\n",
    "*ins - a table of inspections with date,score, and type. One row is one inspection*\n",
    "\n",
    "*vio - a table of restaurant health violations and their risk category.  One row is one violation*\n",
    "\n",
    "*ins2vio - a relation table relating an inspection id to a violation.  Long form data.  One row is one relation.*"
   ]
  },
  {
   "cell_type": "markdown",
   "id": "0cd4c925",
   "metadata": {},
   "source": [
    "1.2) In the two cells below create the following **two numpy arrays**:\n",
    "\n",
    "1. Assign `top_names` to the top 5 most frequently used business names, from most frequent to least frequent.\n",
    "2. Assign `top_addresses` to the top 5 addressses where businesses are located, from most popular to least popular.\n",
    "\n",
    "Hint: you may find `value_counts()` helpful. "
   ]
  },
  {
   "cell_type": "code",
   "execution_count": 196,
   "id": "f978b994",
   "metadata": {},
   "outputs": [],
   "source": [
    "# store the names with the 5 highest value counts as a numpy array top_names (value_counts returns a Series, names are the index)\n",
    "top_names = np.array(df_bus['name'].value_counts().head().index) \n",
    "# store the addresses with the 5 highest value counts as a numpy array top_names (value_counts returns a Series, addresses are the index)\n",
    "top_addresses = np.array(df_bus['address'].value_counts().head().index)\n"
   ]
  },
  {
   "cell_type": "markdown",
   "id": "fd7c2c91",
   "metadata": {},
   "source": [
    "1.3) Look at the businesses that DO NOT have the special MISSING ZIP code value. Some of the invalid postal codes are just the full 9 digit code rather than the first 5 digits. Create a new column named `postal5` in the original bus dataframe which contains only the first 5 digits of the postal_code column. Finally, for any of the likely MISSING postal5 ZIP code entries set the entry to None."
   ]
  },
  {
   "cell_type": "code",
   "execution_count": 197,
   "id": "d3daf865",
   "metadata": {},
   "outputs": [
    {
     "data": {
      "text/plain": [
       "postal_code\n",
       "94103         562\n",
       "94110         555\n",
       "94102         456\n",
       "94107         408\n",
       "94133         398\n",
       "             ... \n",
       "94124-1917      1\n",
       "94102-5917      1\n",
       "94105-2907      1\n",
       "95112           1\n",
       "94123-3106      1\n",
       "Name: count, Length: 63, dtype: int64"
      ]
     },
     "execution_count": 197,
     "metadata": {},
     "output_type": "execute_result"
    }
   ],
   "source": [
    "# manually explore postal_code column because it is not numeric\n",
    "df_bus['postal_code'].value_counts()"
   ]
  },
  {
   "cell_type": "code",
   "execution_count": 198,
   "id": "6be62562",
   "metadata": {},
   "outputs": [
    {
     "data": {
      "text/plain": [
       "'-9999'"
      ]
     },
     "execution_count": 198,
     "metadata": {},
     "output_type": "execute_result"
    }
   ],
   "source": [
    "df_bus['postal_code'].min()"
   ]
  },
  {
   "cell_type": "code",
   "execution_count": 199,
   "id": "f6c66cdb",
   "metadata": {},
   "outputs": [
    {
     "data": {
      "text/plain": [
       "array(['94110', '94133', '94103', '94124', '94123', '94118', '94121',\n",
       "       '94134', '94114', '94109', '94102', '94132', '94116', '-9999',\n",
       "       '94107', '94105', '94108', '94117', '94158', '94112', '94127',\n",
       "       '94105-1420', '94111', '94122', '94115', '94104', '94122-1909',\n",
       "       '94131', '94117-3504', '94518', '95105', '94013', '94130',\n",
       "       '941102019', '941', '941033148', 'CA', '92672', '94120', '94143',\n",
       "       '94101', '94014', '94129', '94602', 'Ca', '94080', '00000',\n",
       "       '94188', '64110', '94544', '94301', '94901', '95117', '95133',\n",
       "       '95109', '95132', '95122', '94621', '94124-1917', '94102-5917',\n",
       "       '94105-2907', '95112', '94123-3106'], dtype=object)"
      ]
     },
     "execution_count": 199,
     "metadata": {},
     "output_type": "execute_result"
    }
   ],
   "source": [
    "# take a look at the unique postal codes to see the unique values and identify the erroneous values\n",
    "df_bus['postal_code'].unique()"
   ]
  },
  {
   "cell_type": "markdown",
   "id": "b123f5e6",
   "metadata": {},
   "source": [
    "*From the textbook we know the special missing zip value is -9999. \n",
    "It also appears there is at least one value that is short digits, and a couple that appear to hold the state abbreviation instead.*"
   ]
  },
  {
   "cell_type": "markdown",
   "id": "2fc6063f",
   "metadata": {},
   "source": [
    "*back to the problem- \n",
    "\"Look at the businesses that DO NOT have the special MISSING ZIP code value. Some of the invalid \n",
    "postal codes are just the full 9 digit code rather than the first 5 digits. Create a new column \n",
    "named `postal5` in the original bus dataframe which contains only the first 5 digits of the # postal_code column. \n",
    "Finally, for any of the likely MISSING postal5 ZIP code entries set the entry to None. \"*"
   ]
  },
  {
   "cell_type": "code",
   "execution_count": 200,
   "id": "c3ed1f89",
   "metadata": {},
   "outputs": [
    {
     "data": {
      "text/plain": [
       "array(['94110', '94133', '94103', '94124', '94123', '94118', '94121',\n",
       "       '94134', '94114', '94109', '94102', '94132', '94116', '-9999',\n",
       "       '94107', '94105', '94108', '94117', '94158', '94112', '94127',\n",
       "       '94111', '94122', '94115', '94104', '94131', '94518', '95105',\n",
       "       '94013', '94130', '941', 'CA', '92672', '94120', '94143', '94101',\n",
       "       '94014', '94129', '94602', 'Ca', '94080', '00000', '94188',\n",
       "       '64110', '94544', '94301', '94901', '95117', '95133', '95109',\n",
       "       '95132', '95122', '94621', '95112'], dtype=object)"
      ]
     },
     "execution_count": 200,
     "metadata": {},
     "output_type": "execute_result"
    }
   ],
   "source": [
    "#Create a new column  named `postal5` in the original bus dataframe which contains only the first 5 digits of the \n",
    "# postal_code column. \n",
    "df_bus['postal5'] = df_bus['postal_code'].str[:5]\n",
    "\n",
    "# check to see if anything weird happened when we stored just the first 5 digits of postal_code in postal5\n",
    "df_bus['postal5'].unique()\n",
    "\n"
   ]
  },
  {
   "cell_type": "code",
   "execution_count": 201,
   "id": "f7fe5bd9",
   "metadata": {},
   "outputs": [
    {
     "data": {
      "text/plain": [
       "array(['94110', '94133', '94103', '94124', '94123', '94118', '94121',\n",
       "       '94134', '94114', '94109', '94102', '94132', '94116', 'None',\n",
       "       '94107', '94105', '94108', '94117', '94158', '94112', '94127',\n",
       "       '94111', '94122', '94115', '94104', '94131', '94518', '95105',\n",
       "       '94013', '94130', '941', 'CA', '92672', '94120', '94143', '94101',\n",
       "       '94014', '94129', '94602', 'Ca', '94080', '00000', '94188',\n",
       "       '64110', '94544', '94301', '94901', '95117', '95133', '95109',\n",
       "       '95132', '95122', '94621', '95112'], dtype=object)"
      ]
     },
     "execution_count": 201,
     "metadata": {},
     "output_type": "execute_result"
    }
   ],
   "source": [
    "# #Finally, for any of the likely MISSING postal5 ZIP code entries set the entry to None.\n",
    "# replace the zip codes that contain the missing zip code value with 'None'\n",
    "df_bus['postal5'] = df_bus['postal5'].str.replace('-9999', 'None', regex = True)\n",
    "\n",
    "df_bus['postal5'].unique()"
   ]
  },
  {
   "cell_type": "code",
   "execution_count": 202,
   "id": "a108eab9",
   "metadata": {},
   "outputs": [
    {
     "data": {
      "text/html": [
       "<div>\n",
       "<style scoped>\n",
       "    .dataframe tbody tr th:only-of-type {\n",
       "        vertical-align: middle;\n",
       "    }\n",
       "\n",
       "    .dataframe tbody tr th {\n",
       "        vertical-align: top;\n",
       "    }\n",
       "\n",
       "    .dataframe thead th {\n",
       "        text-align: right;\n",
       "    }\n",
       "</style>\n",
       "<table border=\"1\" class=\"dataframe\">\n",
       "  <thead>\n",
       "    <tr style=\"text-align: right;\">\n",
       "      <th></th>\n",
       "      <th>business id column</th>\n",
       "      <th>name</th>\n",
       "      <th>address</th>\n",
       "      <th>city</th>\n",
       "      <th>state</th>\n",
       "      <th>postal_code</th>\n",
       "      <th>latitude</th>\n",
       "      <th>longitude</th>\n",
       "      <th>phone_number</th>\n",
       "      <th>postal5</th>\n",
       "    </tr>\n",
       "  </thead>\n",
       "  <tbody>\n",
       "    <tr>\n",
       "      <th>1824</th>\n",
       "      <td>5208</td>\n",
       "      <td>GOLDEN GATE YACHT CLUB</td>\n",
       "      <td>1 YACHT Rd</td>\n",
       "      <td>San Francisco</td>\n",
       "      <td>CA</td>\n",
       "      <td>941</td>\n",
       "      <td>37.807878</td>\n",
       "      <td>-122.442499</td>\n",
       "      <td>14155342628</td>\n",
       "      <td>941</td>\n",
       "    </tr>\n",
       "    <tr>\n",
       "      <th>2409</th>\n",
       "      <td>64540</td>\n",
       "      <td>Leo's Hot Dogs</td>\n",
       "      <td>2301 Mission St</td>\n",
       "      <td>San Francisco</td>\n",
       "      <td>CA</td>\n",
       "      <td>CA</td>\n",
       "      <td>37.760054</td>\n",
       "      <td>-122.419166</td>\n",
       "      <td>14155774013</td>\n",
       "      <td>CA</td>\n",
       "    </tr>\n",
       "    <tr>\n",
       "      <th>2418</th>\n",
       "      <td>64738</td>\n",
       "      <td>Japacurry</td>\n",
       "      <td>Public</td>\n",
       "      <td>San Francisco</td>\n",
       "      <td>CA</td>\n",
       "      <td>CA</td>\n",
       "      <td>37.777122</td>\n",
       "      <td>-122.419639</td>\n",
       "      <td>-9999</td>\n",
       "      <td>CA</td>\n",
       "    </tr>\n",
       "    <tr>\n",
       "      <th>4576</th>\n",
       "      <td>88139</td>\n",
       "      <td>Tacolicious</td>\n",
       "      <td>2250 Chestnut St</td>\n",
       "      <td>San Francisco</td>\n",
       "      <td>CA</td>\n",
       "      <td>Ca</td>\n",
       "      <td>-9999.000000</td>\n",
       "      <td>-9999.000000</td>\n",
       "      <td>14155646077</td>\n",
       "      <td>Ca</td>\n",
       "    </tr>\n",
       "  </tbody>\n",
       "</table>\n",
       "</div>"
      ],
      "text/plain": [
       "      business id column                    name           address  \\\n",
       "1824                5208  GOLDEN GATE YACHT CLUB        1 YACHT Rd   \n",
       "2409               64540          Leo's Hot Dogs   2301 Mission St   \n",
       "2418               64738               Japacurry            Public   \n",
       "4576               88139             Tacolicious  2250 Chestnut St   \n",
       "\n",
       "               city state postal_code     latitude    longitude  phone_number  \\\n",
       "1824  San Francisco    CA         941    37.807878  -122.442499   14155342628   \n",
       "2409  San Francisco    CA          CA    37.760054  -122.419166   14155774013   \n",
       "2418  San Francisco    CA          CA    37.777122  -122.419639         -9999   \n",
       "4576  San Francisco    CA          Ca -9999.000000 -9999.000000   14155646077   \n",
       "\n",
       "     postal5  \n",
       "1824     941  \n",
       "2409      CA  \n",
       "2418      CA  \n",
       "4576      Ca  "
      ]
     },
     "execution_count": 202,
     "metadata": {},
     "output_type": "execute_result"
    }
   ],
   "source": [
    "# investigate the other odd values returned that are not None and are not 5 digits:\n",
    "pattern = r'^[0-9]{5}'\n",
    "df_bus[~df_bus['postal5'].str.match(pattern)] \n",
    "df_bus[(df_bus['postal5'] != 'None') & (~df_bus['postal5'].str.match(pattern))] \n"
   ]
  },
  {
   "cell_type": "markdown",
   "id": "7213255c",
   "metadata": {},
   "source": [
    "*I am not familiar enough with San Francisco or the zip code lat/ long areas to be able to speculate the correct zip codes here.  May be solved with a quick google for each restaurant and address, or go back to the source, but for now it would not be accurate to replace these postal codes with \"None\" because they were not missing.*"
   ]
  },
  {
   "cell_type": "markdown",
   "id": "23cb7a4f",
   "metadata": {},
   "source": [
    "Now using the four Food Safety datasets bus.csv, ins2vio.csv, ins.csv, and vio.csv:\n",
    "\n",
    "1.5) Create a side-by-side boxplot that shows the distribution of the restaurant scores for each different risk category from 2017 to 2019. Use a figure size of at least 12 by 8.\n",
    "\n",
    "Hint: Consider using appropriate JOIN operations."
   ]
  },
  {
   "cell_type": "code",
   "execution_count": 203,
   "id": "9d9719bc",
   "metadata": {},
   "outputs": [
    {
     "data": {
      "text/plain": [
       "<Axes: xlabel='risk_category', ylabel='score'>"
      ]
     },
     "execution_count": 203,
     "metadata": {},
     "output_type": "execute_result"
    },
    {
     "data": {
      "image/png": "[encoded data removed]",
      "text/plain": [
       "<Figure size 1200x800 with 1 Axes>"
      ]
     },
     "metadata": {},
     "output_type": "display_data"
    }
   ],
   "source": [
    "# left join the inspections to violations df with the inspections dataframe and store it in score_dist_2017to2019\n",
    "# each row will then reflect one inspection, but will also include details of each inspection and the index of a corresponding violation\n",
    "score_dist_2017to2019 = df_i2v.merge(df_ins, how='left')\n",
    "\n",
    "# inner join the core_dist_2017to2019 df with the violations dataframe and store it in score_dist_2017to2019\n",
    "# each row will then reflect one inspection, but will also include the details of each inspection and the details of the corresponding violation\n",
    "score_dist_2017to2019 = score_dist_2017to2019.merge(df_vio)\n",
    "\n",
    "# use regex to filter to only the inspections in 2017-2019\n",
    "score_dist_2017to2019 = score_dist_2017to2019[score_dist_2017to2019['date'].str.match(r'[0-1][0-9]/[0-3][0-9]/201[7-9]')]\n",
    "\n",
    "# plot results\n",
    "#use figure size of at least 12 by 8\n",
    "plt.figure(figsize=(12,8))\n",
    "# choose only the risk_category, score, and date columns for the box plots\n",
    "bp_data = score_dist_2017to2019 #[['risk_category', 'score', 'date']]\n",
    "# risk_category on the x axis\n",
    "bp_x = score_dist_2017to2019['risk_category']\n",
    "# score on the y axis\n",
    "bp_y = score_dist_2017to2019['score']\n",
    "# plot the boxplot\n",
    "sns.boxplot(data = bp_data, x = bp_x, y = bp_y)\n",
    "\n"
   ]
  },
  {
   "cell_type": "markdown",
   "id": "e45420d6",
   "metadata": {},
   "source": [
    "*The boxplots make sense. The businesses with the low risk violations have the highest scores, those with the moderate risk violations have middle distribution of scores, and those with the high risk violations have the lowest scores.*"
   ]
  },
  {
   "cell_type": "markdown",
   "id": "354ce096",
   "metadata": {},
   "source": [
    "# Part II - Making a Synthetic Dataset\n",
    "\n",
    "In this part you're going to be create a synthetic dataset (dataframe) with 1000 observations (rows). You are going to use random number generators to create the data for you.\n",
    "\n",
    "You can use either the numpy or scipy library, whichever you find easier. Be sure to import any libraries you use at the top of the ntoebook (not down here)."
   ]
  },
  {
   "cell_type": "code",
   "execution_count": 204,
   "id": "d9f14f52",
   "metadata": {},
   "outputs": [
    {
     "data": {
      "text/plain": [
       "array([0.94221019, 0.62239377, 0.5296268 , ..., 0.58267896, 0.55645907,\n",
       "       0.42240481], shape=(10000,))"
      ]
     },
     "execution_count": 204,
     "metadata": {},
     "output_type": "execute_result"
    }
   ],
   "source": [
    "# number of random numbers to generate (instructions say 1000, n is initilized with 10,000 ?)\n",
    "# intialize n with the sample size of 10,000\n",
    "n = 10000\n",
    "# create a new random number generator\n",
    "rng = np.random.default_rng()\n",
    "# generate the data\n",
    "syndata = rng.random(n)\n",
    "# take a peek at the data\n",
    "syndata"
   ]
  },
  {
   "cell_type": "code",
   "execution_count": 205,
   "id": "e272b5f7",
   "metadata": {},
   "outputs": [
    {
     "data": {
      "text/plain": [
       "array([0.77395605, 0.43887844, 0.85859792, ..., 0.16534697, 0.3734104 ,\n",
       "       0.48090777], shape=(10000,))"
      ]
     },
     "execution_count": 205,
     "metadata": {},
     "output_type": "execute_result"
    }
   ],
   "source": [
    "#Optional: set random seed for reproducibility (how you do it depends on whether yo uuse numpy or scipy to generate the random numbers)\n",
    "\n",
    "# create a new random number generator \"rng_seeded\" seeded with the number 42 for reproducibility\n",
    "rng_seeded = np.random.default_rng(seed=42)\n",
    "# sample size 10000\n",
    "n = 10000\n",
    "\n",
    "# generate the data\n",
    "syndata_seeded = rng_seeded.random(n)\n",
    "# take a peek at the data\n",
    "\n",
    "syndata_seeded\n"
   ]
  },
  {
   "cell_type": "markdown",
   "id": "2951e7b7",
   "metadata": {},
   "source": [
    "2.1) Create a variable \"v1\" of 10,000 numbers where y = 3x+4 is the value of the element at index x, i.e., [4, 7, 10, ...] (Done for you)"
   ]
  },
  {
   "cell_type": "code",
   "execution_count": 206,
   "id": "ab0d3380",
   "metadata": {},
   "outputs": [
    {
     "data": {
      "text/plain": [
       "array([    4,     7,    10, ..., 29995, 29998, 30001], shape=(10000,))"
      ]
     },
     "execution_count": 206,
     "metadata": {},
     "output_type": "execute_result"
    }
   ],
   "source": [
    "v1 = 3 * np.arange(n) + 4\n",
    "# take a peek at v1\n",
    "v1"
   ]
  },
  {
   "cell_type": "markdown",
   "id": "305bf94e",
   "metadata": {},
   "source": [
    "2.2) Create a list of 10,000 samples from a normal (Gaussian) distribution with mean = 0 and variance = 10.\n",
    "\n",
    "HINT: Pay attention to whether the argument to your number generator is variance or standard deviation. (It doesn't have to be a python list, it can be an array or dataframe, or whatever dtype is most convenient for you.)"
   ]
  },
  {
   "cell_type": "code",
   "execution_count": 207,
   "id": "d8ffefdc",
   "metadata": {},
   "outputs": [
    {
     "data": {
      "text/plain": [
       "array([13.5451685 , -3.25877057, -1.98458357, ...,  0.76232835,\n",
       "       -0.26437644, -7.39296554], shape=(10000,))"
      ]
     },
     "execution_count": 207,
     "metadata": {},
     "output_type": "execute_result"
    }
   ],
   "source": [
    "# noise = np.random.normal... (can also use scipy)\n",
    "# of values to generate \n",
    "n = 10000\n",
    "# desired mean\n",
    "m = 0\n",
    "# desired variance \n",
    "v = 10\n",
    "\n",
    "# create a new random number generator\n",
    "rng_normal = np.random.default_rng()\n",
    "# generate noise given the parameters above\n",
    "noise = rng_normal.normal(m, v, n)\n",
    "# peek at the noise values\n",
    "noise"
   ]
  },
  {
   "cell_type": "markdown",
   "id": "b5d70539",
   "metadata": {},
   "source": [
    "2.3) Create a variable v2 = v1 + Gaussian noise, using the noise your created above"
   ]
  },
  {
   "cell_type": "code",
   "execution_count": 208,
   "id": "fa5af276",
   "metadata": {},
   "outputs": [],
   "source": [
    "# v2 = v1 + noise\n",
    "v2 = v1 + noise"
   ]
  },
  {
   "cell_type": "markdown",
   "id": "7df85a53",
   "metadata": {},
   "source": [
    "2.4) Create a variable v3 = exp(v1) that exponentiates the libear variable in v1, also sometimes denoted e^(v1), e.g., v3[0] = e^4"
   ]
  },
  {
   "cell_type": "code",
   "execution_count": 209,
   "id": "3d1d1f76",
   "metadata": {},
   "outputs": [
    {
     "name": "stderr",
     "output_type": "stream",
     "text": [
      "C:\\Users\\robin\\AppData\\Local\\Temp\\ipykernel_24352\\2233579328.py:3: RuntimeWarning: overflow encountered in exp\n",
      "  v3 = np.exp(v1)\n"
     ]
    },
    {
     "data": {
      "text/plain": [
       "array([   54.59815003,  1096.63315843, 22026.46579481, ...,\n",
       "                  inf,            inf,            inf], shape=(10000,))"
      ]
     },
     "execution_count": 209,
     "metadata": {},
     "output_type": "execute_result"
    }
   ],
   "source": [
    "#v3 =\n",
    "# calculate e^(v1) using np.exp() and store it in v3 \n",
    "v3 = np.exp(v1)\n",
    "# take a peek at v3\n",
    "v3"
   ]
  },
  {
   "cell_type": "markdown",
   "id": "c285be5f",
   "metadata": {},
   "source": [
    "2.5) Create a list v4 = exp(v1) + Gaussian noise, using the same noise variable you created earlier"
   ]
  },
  {
   "cell_type": "code",
   "execution_count": 210,
   "id": "789c7479",
   "metadata": {},
   "outputs": [
    {
     "name": "stderr",
     "output_type": "stream",
     "text": [
      "C:\\Users\\robin\\AppData\\Local\\Temp\\ipykernel_24352\\3548654555.py:2: RuntimeWarning: overflow encountered in exp\n",
      "  v4 = np.exp(v1) + noise\n"
     ]
    },
    {
     "data": {
      "text/plain": [
       "array([   68.14331853,  1093.37438786, 22024.48121123, ...,\n",
       "                  inf,            inf,            inf], shape=(10000,))"
      ]
     },
     "execution_count": 210,
     "metadata": {},
     "output_type": "execute_result"
    }
   ],
   "source": [
    "# add the noise to the e^(v1) values \n",
    "v4 = np.exp(v1) + noise\n",
    "# take a peek at v4\n",
    "v4"
   ]
  },
  {
   "cell_type": "markdown",
   "id": "8cc92013",
   "metadata": {},
   "source": [
    "2.6) Create a list v5 = exp(v1 + Gaussian noise), using the same noise variable you created earlier"
   ]
  },
  {
   "cell_type": "code",
   "execution_count": 211,
   "id": "ea33d10f",
   "metadata": {},
   "outputs": [
    {
     "name": "stderr",
     "output_type": "stream",
     "text": [
      "C:\\Users\\robin\\AppData\\Local\\Temp\\ipykernel_24352\\776255142.py:3: RuntimeWarning: overflow encountered in exp\n",
      "  v5 = np.exp(v1 + noise)\n"
     ]
    },
    {
     "data": {
      "text/plain": [
       "array([4.16648540e+07, 4.21497785e+01, 3.02726977e+03, ...,\n",
       "                  inf,            inf,            inf], shape=(10000,))"
      ]
     },
     "execution_count": 211,
     "metadata": {},
     "output_type": "execute_result"
    }
   ],
   "source": [
    "# v5 = \n",
    "# calculate e^(v1+noise) and then store them in v5\n",
    "v5 = np.exp(v1 + noise)\n",
    "# take a peek at v5\n",
    "v5"
   ]
  },
  {
   "cell_type": "markdown",
   "id": "21b34357",
   "metadata": {},
   "source": [
    "2.7) Create a dataframe with 10,000 rows and columns = [v1, v2, v3, v4, v5, noise]"
   ]
  },
  {
   "cell_type": "code",
   "execution_count": 212,
   "id": "2d819f8e",
   "metadata": {},
   "outputs": [
    {
     "data": {
      "text/html": [
       "<div>\n",
       "<style scoped>\n",
       "    .dataframe tbody tr th:only-of-type {\n",
       "        vertical-align: middle;\n",
       "    }\n",
       "\n",
       "    .dataframe tbody tr th {\n",
       "        vertical-align: top;\n",
       "    }\n",
       "\n",
       "    .dataframe thead th {\n",
       "        text-align: right;\n",
       "    }\n",
       "</style>\n",
       "<table border=\"1\" class=\"dataframe\">\n",
       "  <thead>\n",
       "    <tr style=\"text-align: right;\">\n",
       "      <th></th>\n",
       "      <th>v1</th>\n",
       "      <th>v2</th>\n",
       "      <th>v3</th>\n",
       "      <th>v4</th>\n",
       "      <th>v5</th>\n",
       "      <th>noise</th>\n",
       "    </tr>\n",
       "  </thead>\n",
       "  <tbody>\n",
       "    <tr>\n",
       "      <th>0</th>\n",
       "      <td>4</td>\n",
       "      <td>17.545169</td>\n",
       "      <td>5.459815e+01</td>\n",
       "      <td>6.814332e+01</td>\n",
       "      <td>4.166485e+07</td>\n",
       "      <td>13.545169</td>\n",
       "    </tr>\n",
       "    <tr>\n",
       "      <th>1</th>\n",
       "      <td>7</td>\n",
       "      <td>3.741229</td>\n",
       "      <td>1.096633e+03</td>\n",
       "      <td>1.093374e+03</td>\n",
       "      <td>4.214978e+01</td>\n",
       "      <td>-3.258771</td>\n",
       "    </tr>\n",
       "    <tr>\n",
       "      <th>2</th>\n",
       "      <td>10</td>\n",
       "      <td>8.015416</td>\n",
       "      <td>2.202647e+04</td>\n",
       "      <td>2.202448e+04</td>\n",
       "      <td>3.027270e+03</td>\n",
       "      <td>-1.984584</td>\n",
       "    </tr>\n",
       "    <tr>\n",
       "      <th>3</th>\n",
       "      <td>13</td>\n",
       "      <td>12.265917</td>\n",
       "      <td>4.424134e+05</td>\n",
       "      <td>4.424127e+05</td>\n",
       "      <td>2.123344e+05</td>\n",
       "      <td>-0.734083</td>\n",
       "    </tr>\n",
       "    <tr>\n",
       "      <th>4</th>\n",
       "      <td>16</td>\n",
       "      <td>27.303001</td>\n",
       "      <td>8.886111e+06</td>\n",
       "      <td>8.886122e+06</td>\n",
       "      <td>7.203487e+11</td>\n",
       "      <td>11.303001</td>\n",
       "    </tr>\n",
       "    <tr>\n",
       "      <th>...</th>\n",
       "      <td>...</td>\n",
       "      <td>...</td>\n",
       "      <td>...</td>\n",
       "      <td>...</td>\n",
       "      <td>...</td>\n",
       "      <td>...</td>\n",
       "    </tr>\n",
       "    <tr>\n",
       "      <th>9995</th>\n",
       "      <td>29989</td>\n",
       "      <td>30002.487916</td>\n",
       "      <td>inf</td>\n",
       "      <td>inf</td>\n",
       "      <td>inf</td>\n",
       "      <td>13.487916</td>\n",
       "    </tr>\n",
       "    <tr>\n",
       "      <th>9996</th>\n",
       "      <td>29992</td>\n",
       "      <td>29989.838460</td>\n",
       "      <td>inf</td>\n",
       "      <td>inf</td>\n",
       "      <td>inf</td>\n",
       "      <td>-2.161540</td>\n",
       "    </tr>\n",
       "    <tr>\n",
       "      <th>9997</th>\n",
       "      <td>29995</td>\n",
       "      <td>29995.762328</td>\n",
       "      <td>inf</td>\n",
       "      <td>inf</td>\n",
       "      <td>inf</td>\n",
       "      <td>0.762328</td>\n",
       "    </tr>\n",
       "    <tr>\n",
       "      <th>9998</th>\n",
       "      <td>29998</td>\n",
       "      <td>29997.735624</td>\n",
       "      <td>inf</td>\n",
       "      <td>inf</td>\n",
       "      <td>inf</td>\n",
       "      <td>-0.264376</td>\n",
       "    </tr>\n",
       "    <tr>\n",
       "      <th>9999</th>\n",
       "      <td>30001</td>\n",
       "      <td>29993.607034</td>\n",
       "      <td>inf</td>\n",
       "      <td>inf</td>\n",
       "      <td>inf</td>\n",
       "      <td>-7.392966</td>\n",
       "    </tr>\n",
       "  </tbody>\n",
       "</table>\n",
       "<p>10000 rows × 6 columns</p>\n",
       "</div>"
      ],
      "text/plain": [
       "         v1            v2            v3            v4            v5      noise\n",
       "0         4     17.545169  5.459815e+01  6.814332e+01  4.166485e+07  13.545169\n",
       "1         7      3.741229  1.096633e+03  1.093374e+03  4.214978e+01  -3.258771\n",
       "2        10      8.015416  2.202647e+04  2.202448e+04  3.027270e+03  -1.984584\n",
       "3        13     12.265917  4.424134e+05  4.424127e+05  2.123344e+05  -0.734083\n",
       "4        16     27.303001  8.886111e+06  8.886122e+06  7.203487e+11  11.303001\n",
       "...     ...           ...           ...           ...           ...        ...\n",
       "9995  29989  30002.487916           inf           inf           inf  13.487916\n",
       "9996  29992  29989.838460           inf           inf           inf  -2.161540\n",
       "9997  29995  29995.762328           inf           inf           inf   0.762328\n",
       "9998  29998  29997.735624           inf           inf           inf  -0.264376\n",
       "9999  30001  29993.607034           inf           inf           inf  -7.392966\n",
       "\n",
       "[10000 rows x 6 columns]"
      ]
     },
     "execution_count": 212,
     "metadata": {},
     "output_type": "execute_result"
    }
   ],
   "source": [
    "# df_full = ...\n",
    "# create dictonary d with the corresponding column headers and their values\n",
    "d = {'v1': v1, 'v2': v2, 'v3': v3, 'v4': v4, 'v5': v5, 'noise': noise}\n",
    "# create df_full from the dictionary d\n",
    "df_full = pd.DataFrame( data = d)\n",
    "# take a peek at df_full\n",
    "df_full"
   ]
  },
  {
   "cell_type": "markdown",
   "id": "e407ccc9",
   "metadata": {},
   "source": [
    "*We get an error and infinite values for the e^v# columns as the values grow exponentially large.*"
   ]
  },
  {
   "cell_type": "markdown",
   "id": "b4a25983",
   "metadata": {},
   "source": [
    "2.8) For each variable (v2, v3, v4, v5) create a separate scatter plot with v1 on the x-axis. Remark on your general observations."
   ]
  },
  {
   "cell_type": "code",
   "execution_count": 213,
   "id": "94e931c4",
   "metadata": {},
   "outputs": [
    {
     "name": "stderr",
     "output_type": "stream",
     "text": [
      "f:\\Code\\CST577DataScience\\Assignment2\\venv\\Lib\\site-packages\\matplotlib\\ticker.py:2178: RuntimeWarning: overflow encountered in multiply\n",
      "  steps = self._extended_steps * scale\n",
      "f:\\Code\\CST577DataScience\\Assignment2\\venv\\Lib\\site-packages\\matplotlib\\ticker.py:2178: RuntimeWarning: overflow encountered in multiply\n",
      "  steps = self._extended_steps * scale\n",
      "f:\\Code\\CST577DataScience\\Assignment2\\venv\\Lib\\site-packages\\matplotlib\\ticker.py:2178: RuntimeWarning: overflow encountered in multiply\n",
      "  steps = self._extended_steps * scale\n"
     ]
    },
    {
     "data": {
      "image/png": "[encoded data removed]",
      "text/plain": [
       "<Figure size 1000x1000 with 4 Axes>"
      ]
     },
     "metadata": {},
     "output_type": "display_data"
    }
   ],
   "source": [
    "# create a seperate scatter plot plotting each v2, v3, v3, and v5 against v1\n",
    "#set dimesions of each plot\n",
    "plt.figure(figsize=(10,10))\n",
    "# create plot v1 against v2\n",
    "plt.subplot(221)\n",
    "sns.scatterplot(df_full, x = 'v1', y = 'v2')\n",
    "# create plot v1 against v3\n",
    "plt.subplot(222)\n",
    "sns.scatterplot(df_full, x = 'v1', y = 'v3' )\n",
    "# create plot v1 against v4\n",
    "plt.subplot(223)\n",
    "sns.scatterplot(df_full, x = 'v1', y = 'v4')\n",
    "# create plot v1 against v5\n",
    "plt.subplot(224)\n",
    "sns.scatterplot(df_full, x = 'v1', y = 'v5')\n",
    "# display all plots\n",
    "plt.show()\n",
    "\n"
   ]
  },
  {
   "cell_type": "markdown",
   "id": "f81441b2",
   "metadata": {},
   "source": [
    "*Since v3 through v5 are exponential and spike up to values that stored as infinity, there isnt a nice range to use.  Despite the errrors, the graph shows us what the values are doing.  They are "
   ]
  },
  {
   "cell_type": "code",
   "execution_count": 214,
   "id": "46661550",
   "metadata": {},
   "outputs": [
    {
     "name": "stderr",
     "output_type": "stream",
     "text": [
      "f:\\Code\\CST577DataScience\\Assignment2\\venv\\Lib\\site-packages\\matplotlib\\ticker.py:2178: RuntimeWarning: overflow encountered in multiply\n",
      "  steps = self._extended_steps * scale\n",
      "f:\\Code\\CST577DataScience\\Assignment2\\venv\\Lib\\site-packages\\matplotlib\\ticker.py:2178: RuntimeWarning: overflow encountered in multiply\n",
      "  steps = self._extended_steps * scale\n",
      "f:\\Code\\CST577DataScience\\Assignment2\\venv\\Lib\\site-packages\\matplotlib\\ticker.py:2178: RuntimeWarning: overflow encountered in multiply\n",
      "  steps = self._extended_steps * scale\n"
     ]
    },
    {
     "data": {
      "image/png": "[encoded data removed]",
      "text/plain": [
       "<Figure size 1000x1000 with 4 Axes>"
      ]
     },
     "metadata": {},
     "output_type": "display_data"
    }
   ],
   "source": [
    "# create a seperate scatter plot plotting each v2, v3, v3, and v5 against v1\n",
    "#set dimesions of each plot\n",
    "plt.figure(figsize=(10,10))\n",
    "# create plot v1 against v2\n",
    "# set subplot dimensions and this plots position : 2x2 subplots, this is plot 1\n",
    "plt.subplot(221)\n",
    "sns.scatterplot(df_full, x = 'v1', y = 'v2')\n",
    "# create plot v1 against v3\n",
    "# 2x2 subplots, this is plot 2...\n",
    "plt.subplot(222)\n",
    "sns.scatterplot(df_full, x = 'v1', y = 'v3' )\n",
    "# create plot v1 against v4\n",
    "plt.subplot(223)\n",
    "sns.scatterplot(df_full, x = 'v1', y = 'v4')\n",
    "# create plot v1 against v5\n",
    "plt.subplot(224)\n",
    "sns.scatterplot(df_full, x = 'v1', y = 'v5')\n",
    "# display all plots\n",
    "plt.show()"
   ]
  },
  {
   "cell_type": "markdown",
   "id": "bd4a9c1b",
   "metadata": {},
   "source": [
    "*We are receiving Runtime overflow errors because the exponential values increase quickly and seaborn is having trouble scaling the plots.  The automatic scaling on the plots showing v3, v4, and v5 confused me, because seaborn set the y scale so high and uses a different x scale.  The result looks like the values stay around 0 and then skyrocket once v1 reaches 700.*"
   ]
  },
  {
   "cell_type": "code",
   "execution_count": 215,
   "id": "48fa25f0",
   "metadata": {},
   "outputs": [
    {
     "data": {
      "image/png": "[encoded data removed]",
      "text/plain": [
       "<Figure size 2000x2000 with 4 Axes>"
      ]
     },
     "metadata": {},
     "output_type": "display_data"
    }
   ],
   "source": [
    "# trying that again, but manually setting the x and y scales so they are more easily comparable\n",
    "# create a seperate scatter plot plotting each v2, v3, v3, and v5 against v1\n",
    "\n",
    "#set dimensions of each plot\n",
    "plt.figure(figsize=(20,20))\n",
    "# create plot v1 against v2\n",
    "# setting this as a 4x1 subplot to see the plots a little better\n",
    "plt.subplot(411)\n",
    "sns.scatterplot(df_full, x = 'v1', y = 'v2')\n",
    "# create plot v1 against v3\n",
    "plt.subplot(412)\n",
    "# set x and y scales to match the scale seaborn is automatically using for v1 vs v2\n",
    "plt.xlim(0, 30000)\n",
    "plt.ylim(0, 30000)\n",
    "sns.scatterplot(df_full, x = 'v1', y = 'v3' )\n",
    "# create plot v1 against v4\n",
    "plt.subplot(413)\n",
    "# set x and y scales to match the scale seaborn is automatically using for v1 vs v2\n",
    "plt.xlim(0, 30000)\n",
    "plt.ylim(0, 30000)\n",
    "sns.scatterplot(df_full, x = 'v1', y = 'v4')\n",
    "# create plot v1 against v5\n",
    "plt.subplot(414)\n",
    "# set x and y scales to match the scale seaborn is automatically using for v1 vs v2\n",
    "plt.xlim(0, 30000)\n",
    "plt.ylim(0, 30000)\n",
    "sns.scatterplot(df_full, x = 'v1', y = 'v5')\n",
    "# display all plots\n",
    "plt.show()"
   ]
  },
  {
   "cell_type": "markdown",
   "id": "fb654dea",
   "metadata": {},
   "source": [
    "*This is a little better.  Can see that the v3, v4, and v5 values grow very quickly as v1 gets larger than 0, but we see very few data points for v3, v4, and v5*"
   ]
  },
  {
   "cell_type": "code",
   "execution_count": 216,
   "id": "2f71afb3",
   "metadata": {},
   "outputs": [
    {
     "name": "stderr",
     "output_type": "stream",
     "text": [
      "f:\\Code\\CST577DataScience\\Assignment2\\venv\\Lib\\site-packages\\matplotlib\\ticker.py:2178: RuntimeWarning: overflow encountered in multiply\n",
      "  steps = self._extended_steps * scale\n"
     ]
    },
    {
     "data": {
      "text/plain": [
       "<seaborn.axisgrid.PairGrid at 0x1994a489d00>"
      ]
     },
     "execution_count": 216,
     "metadata": {},
     "output_type": "execute_result"
    },
    {
     "data": {
      "image/png": "[encoded data removed]",
      "text/plain": [
       "<Figure size 1200x1600 with 4 Axes>"
      ]
     },
     "metadata": {},
     "output_type": "display_data"
    }
   ],
   "source": [
    "# trying a pairplot which I had used in a similar situation in the past to compare variables\n",
    "# pairplot creates scatterplots for each variable set as y_vars against the variable set as the x_vars\n",
    "sns.pairplot(df_full, y_vars=['v2','v3', 'v4', 'v5'], x_vars='v1', height=4, aspect=3)"
   ]
  },
  {
   "cell_type": "markdown",
   "id": "b5bd07ea",
   "metadata": {},
   "source": [
    "*The pairplot helps because by default it applies the same x scale throughout.  This makes it easier to compare the behavior of the values of v2, v3, v4, and v5 against eachother.  This makes it fairly clear that the relationship between v1 and v2 appears to be linear, while the values in v3, v4, and v5 in relation to v1 hover around 0 when v1 is close to 0, but then increase very quickly as v1 gets larger than 0.  The scale is still rather large, so I feel like the pairplot + the scatterplots with the manually set scale together give a good idea of what is going on.*"
   ]
  },
  {
   "cell_type": "markdown",
   "id": "ebcbf13a",
   "metadata": {},
   "source": [
    "2.9)  Create pair of boxplots with v4 and v5 next to each other. Remark on how v4 and v5 compare, based on the violin plots and the scatter plots. You may use other plots or tools if helpful."
   ]
  },
  {
   "cell_type": "code",
   "execution_count": 217,
   "id": "804372e7",
   "metadata": {},
   "outputs": [
    {
     "name": "stderr",
     "output_type": "stream",
     "text": [
      "f:\\Code\\CST577DataScience\\Assignment2\\venv\\Lib\\site-packages\\matplotlib\\ticker.py:2178: RuntimeWarning: overflow encountered in multiply\n",
      "  steps = self._extended_steps * scale\n",
      "f:\\Code\\CST577DataScience\\Assignment2\\venv\\Lib\\site-packages\\matplotlib\\ticker.py:2178: RuntimeWarning: overflow encountered in multiply\n",
      "  steps = self._extended_steps * scale\n"
     ]
    },
    {
     "data": {
      "image/png": "[encoded data removed]",
      "text/plain": [
       "<Figure size 1000x1000 with 4 Axes>"
      ]
     },
     "metadata": {},
     "output_type": "display_data"
    }
   ],
   "source": [
    "# set plot size\n",
    "plt.figure(figsize=(10,10))\n",
    "# create box plots for v4 and v5, allowing seaborn to automatically set the scale\n",
    "plt.subplot(221)\n",
    "sns.boxplot(y = df_full['v4'])\n",
    "plt.subplot(222)\n",
    "sns.boxplot(y = df_full['v5'])\n",
    "# create box plots for v4 and v5, setting the same scale as above\n",
    "plt.subplot(223)\n",
    "plt.ylim(0,30000)\n",
    "sns.boxplot(y = df_full['v4'])\n",
    "plt.subplot(224)\n",
    "plt.ylim(0,30000)\n",
    "sns.boxplot(y = df_full['v5'])\n",
    "plt.show()\n"
   ]
  },
  {
   "cell_type": "markdown",
   "id": "b474319b",
   "metadata": {},
   "source": [
    "*v4 and v5 both hover around 0 when v1 is around 0.  The values then grow rapidly as the values in v1 increase above 0.  v5 grows more rapidly than v4.  This makes sense because in v4, we are calculating an exponent and then adding the noise, so we are getting exponential growth on v1 but then adding a linear growth from the noise.  In v5, we are adding the noise and then calculating the exponent, so we are getting exponential growth on the value of v1 and the noise.*"
   ]
  },
  {
   "cell_type": "markdown",
   "id": "52d9ba9f",
   "metadata": {},
   "source": [
    "## Part III - Sampling and Convergence"
   ]
  },
  {
   "cell_type": "markdown",
   "id": "c9198364",
   "metadata": {},
   "source": [
    "3.1) Create a variable \"pareto\" that is a list of 10,000 samples from a Pareto distribution with shape parameter = 1.2 (usually denoted a or alpha). Add this list \"pareto\" as a column to your dataframe from Part II"
   ]
  },
  {
   "cell_type": "code",
   "execution_count": 218,
   "id": "1da7dea3",
   "metadata": {},
   "outputs": [
    {
     "data": {
      "text/html": [
       "<div>\n",
       "<style scoped>\n",
       "    .dataframe tbody tr th:only-of-type {\n",
       "        vertical-align: middle;\n",
       "    }\n",
       "\n",
       "    .dataframe tbody tr th {\n",
       "        vertical-align: top;\n",
       "    }\n",
       "\n",
       "    .dataframe thead th {\n",
       "        text-align: right;\n",
       "    }\n",
       "</style>\n",
       "<table border=\"1\" class=\"dataframe\">\n",
       "  <thead>\n",
       "    <tr style=\"text-align: right;\">\n",
       "      <th></th>\n",
       "      <th>v1</th>\n",
       "      <th>v2</th>\n",
       "      <th>v3</th>\n",
       "      <th>v4</th>\n",
       "      <th>v5</th>\n",
       "      <th>noise</th>\n",
       "      <th>pareto</th>\n",
       "    </tr>\n",
       "  </thead>\n",
       "  <tbody>\n",
       "    <tr>\n",
       "      <th>0</th>\n",
       "      <td>4</td>\n",
       "      <td>17.545169</td>\n",
       "      <td>5.459815e+01</td>\n",
       "      <td>6.814332e+01</td>\n",
       "      <td>4.166485e+07</td>\n",
       "      <td>13.545169</td>\n",
       "      <td>0.769699</td>\n",
       "    </tr>\n",
       "    <tr>\n",
       "      <th>1</th>\n",
       "      <td>7</td>\n",
       "      <td>3.741229</td>\n",
       "      <td>1.096633e+03</td>\n",
       "      <td>1.093374e+03</td>\n",
       "      <td>4.214978e+01</td>\n",
       "      <td>-3.258771</td>\n",
       "      <td>2.677728</td>\n",
       "    </tr>\n",
       "    <tr>\n",
       "      <th>2</th>\n",
       "      <td>10</td>\n",
       "      <td>8.015416</td>\n",
       "      <td>2.202647e+04</td>\n",
       "      <td>2.202448e+04</td>\n",
       "      <td>3.027270e+03</td>\n",
       "      <td>-1.984584</td>\n",
       "      <td>0.536141</td>\n",
       "    </tr>\n",
       "    <tr>\n",
       "      <th>3</th>\n",
       "      <td>13</td>\n",
       "      <td>12.265917</td>\n",
       "      <td>4.424134e+05</td>\n",
       "      <td>4.424127e+05</td>\n",
       "      <td>2.123344e+05</td>\n",
       "      <td>-0.734083</td>\n",
       "      <td>0.105397</td>\n",
       "    </tr>\n",
       "    <tr>\n",
       "      <th>4</th>\n",
       "      <td>16</td>\n",
       "      <td>27.303001</td>\n",
       "      <td>8.886111e+06</td>\n",
       "      <td>8.886122e+06</td>\n",
       "      <td>7.203487e+11</td>\n",
       "      <td>11.303001</td>\n",
       "      <td>0.605432</td>\n",
       "    </tr>\n",
       "    <tr>\n",
       "      <th>...</th>\n",
       "      <td>...</td>\n",
       "      <td>...</td>\n",
       "      <td>...</td>\n",
       "      <td>...</td>\n",
       "      <td>...</td>\n",
       "      <td>...</td>\n",
       "      <td>...</td>\n",
       "    </tr>\n",
       "    <tr>\n",
       "      <th>9995</th>\n",
       "      <td>29989</td>\n",
       "      <td>30002.487916</td>\n",
       "      <td>inf</td>\n",
       "      <td>inf</td>\n",
       "      <td>inf</td>\n",
       "      <td>13.487916</td>\n",
       "      <td>0.137757</td>\n",
       "    </tr>\n",
       "    <tr>\n",
       "      <th>9996</th>\n",
       "      <td>29992</td>\n",
       "      <td>29989.838460</td>\n",
       "      <td>inf</td>\n",
       "      <td>inf</td>\n",
       "      <td>inf</td>\n",
       "      <td>-2.161540</td>\n",
       "      <td>0.099164</td>\n",
       "    </tr>\n",
       "    <tr>\n",
       "      <th>9997</th>\n",
       "      <td>29995</td>\n",
       "      <td>29995.762328</td>\n",
       "      <td>inf</td>\n",
       "      <td>inf</td>\n",
       "      <td>inf</td>\n",
       "      <td>0.762328</td>\n",
       "      <td>0.120248</td>\n",
       "    </tr>\n",
       "    <tr>\n",
       "      <th>9998</th>\n",
       "      <td>29998</td>\n",
       "      <td>29997.735624</td>\n",
       "      <td>inf</td>\n",
       "      <td>inf</td>\n",
       "      <td>inf</td>\n",
       "      <td>-0.264376</td>\n",
       "      <td>0.659101</td>\n",
       "    </tr>\n",
       "    <tr>\n",
       "      <th>9999</th>\n",
       "      <td>30001</td>\n",
       "      <td>29993.607034</td>\n",
       "      <td>inf</td>\n",
       "      <td>inf</td>\n",
       "      <td>inf</td>\n",
       "      <td>-7.392966</td>\n",
       "      <td>1.996636</td>\n",
       "    </tr>\n",
       "  </tbody>\n",
       "</table>\n",
       "<p>10000 rows × 7 columns</p>\n",
       "</div>"
      ],
      "text/plain": [
       "         v1            v2            v3            v4            v5  \\\n",
       "0         4     17.545169  5.459815e+01  6.814332e+01  4.166485e+07   \n",
       "1         7      3.741229  1.096633e+03  1.093374e+03  4.214978e+01   \n",
       "2        10      8.015416  2.202647e+04  2.202448e+04  3.027270e+03   \n",
       "3        13     12.265917  4.424134e+05  4.424127e+05  2.123344e+05   \n",
       "4        16     27.303001  8.886111e+06  8.886122e+06  7.203487e+11   \n",
       "...     ...           ...           ...           ...           ...   \n",
       "9995  29989  30002.487916           inf           inf           inf   \n",
       "9996  29992  29989.838460           inf           inf           inf   \n",
       "9997  29995  29995.762328           inf           inf           inf   \n",
       "9998  29998  29997.735624           inf           inf           inf   \n",
       "9999  30001  29993.607034           inf           inf           inf   \n",
       "\n",
       "          noise    pareto  \n",
       "0     13.545169  0.769699  \n",
       "1     -3.258771  2.677728  \n",
       "2     -1.984584  0.536141  \n",
       "3     -0.734083  0.105397  \n",
       "4     11.303001  0.605432  \n",
       "...         ...       ...  \n",
       "9995  13.487916  0.137757  \n",
       "9996  -2.161540  0.099164  \n",
       "9997   0.762328  0.120248  \n",
       "9998  -0.264376  0.659101  \n",
       "9999  -7.392966  1.996636  \n",
       "\n",
       "[10000 rows x 7 columns]"
      ]
     },
     "execution_count": 218,
     "metadata": {},
     "output_type": "execute_result"
    }
   ],
   "source": [
    "#pareto = np.random.pareto... (can also use scipy)\n",
    "# store pareto shape parameter of 1.2 in variable a \n",
    "n = 10000\n",
    "a = 1.2\n",
    "# create a new random number generator for pareto distribution\n",
    "rng_pareto = np.random.default_rng()\n",
    "# generate n \"random\" numbers using pareto generator and parameters given\n",
    "pareto = rng_pareto.pareto(a, n)\n",
    "# add the pareto values to the dataframe\n",
    "df_full['pareto'] = pareto\n",
    "# take a peek at the updated dataframe\n",
    "df_full"
   ]
  },
  {
   "cell_type": "markdown",
   "id": "280a2ec6",
   "metadata": {},
   "source": [
    "3.2) Add two more columns to your dataframe labeled \"running_avg_normal\" and \"running_avg_pareto\". In the \"running_avg_normal\" column put the running average of the (unsorted) values in the noise column. For example, if the values in the noise column are [0.1, 0.3, 0.5, ...] then the running average should be [0.1, 0.2, 0.3, ...]. Do the same for the Pareto column.\n",
    "\n",
    "HINT: Check out the .expanding() and .mean() methods for pandas Series objects"
   ]
  },
  {
   "cell_type": "code",
   "execution_count": 219,
   "id": "9235e689",
   "metadata": {},
   "outputs": [
    {
     "data": {
      "text/html": [
       "<div>\n",
       "<style scoped>\n",
       "    .dataframe tbody tr th:only-of-type {\n",
       "        vertical-align: middle;\n",
       "    }\n",
       "\n",
       "    .dataframe tbody tr th {\n",
       "        vertical-align: top;\n",
       "    }\n",
       "\n",
       "    .dataframe thead th {\n",
       "        text-align: right;\n",
       "    }\n",
       "</style>\n",
       "<table border=\"1\" class=\"dataframe\">\n",
       "  <thead>\n",
       "    <tr style=\"text-align: right;\">\n",
       "      <th></th>\n",
       "      <th>v1</th>\n",
       "      <th>v2</th>\n",
       "      <th>v3</th>\n",
       "      <th>v4</th>\n",
       "      <th>v5</th>\n",
       "      <th>noise</th>\n",
       "      <th>pareto</th>\n",
       "      <th>running_avg_normal</th>\n",
       "      <th>running_avg_pareto</th>\n",
       "    </tr>\n",
       "  </thead>\n",
       "  <tbody>\n",
       "    <tr>\n",
       "      <th>0</th>\n",
       "      <td>4</td>\n",
       "      <td>17.545169</td>\n",
       "      <td>5.459815e+01</td>\n",
       "      <td>6.814332e+01</td>\n",
       "      <td>4.166485e+07</td>\n",
       "      <td>13.545169</td>\n",
       "      <td>0.769699</td>\n",
       "      <td>13.545169</td>\n",
       "      <td>0.769699</td>\n",
       "    </tr>\n",
       "    <tr>\n",
       "      <th>1</th>\n",
       "      <td>7</td>\n",
       "      <td>3.741229</td>\n",
       "      <td>1.096633e+03</td>\n",
       "      <td>1.093374e+03</td>\n",
       "      <td>4.214978e+01</td>\n",
       "      <td>-3.258771</td>\n",
       "      <td>2.677728</td>\n",
       "      <td>5.143199</td>\n",
       "      <td>1.723714</td>\n",
       "    </tr>\n",
       "    <tr>\n",
       "      <th>2</th>\n",
       "      <td>10</td>\n",
       "      <td>8.015416</td>\n",
       "      <td>2.202647e+04</td>\n",
       "      <td>2.202448e+04</td>\n",
       "      <td>3.027270e+03</td>\n",
       "      <td>-1.984584</td>\n",
       "      <td>0.536141</td>\n",
       "      <td>2.767271</td>\n",
       "      <td>1.327856</td>\n",
       "    </tr>\n",
       "    <tr>\n",
       "      <th>3</th>\n",
       "      <td>13</td>\n",
       "      <td>12.265917</td>\n",
       "      <td>4.424134e+05</td>\n",
       "      <td>4.424127e+05</td>\n",
       "      <td>2.123344e+05</td>\n",
       "      <td>-0.734083</td>\n",
       "      <td>0.105397</td>\n",
       "      <td>1.891933</td>\n",
       "      <td>1.022241</td>\n",
       "    </tr>\n",
       "    <tr>\n",
       "      <th>4</th>\n",
       "      <td>16</td>\n",
       "      <td>27.303001</td>\n",
       "      <td>8.886111e+06</td>\n",
       "      <td>8.886122e+06</td>\n",
       "      <td>7.203487e+11</td>\n",
       "      <td>11.303001</td>\n",
       "      <td>0.605432</td>\n",
       "      <td>3.774147</td>\n",
       "      <td>0.938880</td>\n",
       "    </tr>\n",
       "    <tr>\n",
       "      <th>...</th>\n",
       "      <td>...</td>\n",
       "      <td>...</td>\n",
       "      <td>...</td>\n",
       "      <td>...</td>\n",
       "      <td>...</td>\n",
       "      <td>...</td>\n",
       "      <td>...</td>\n",
       "      <td>...</td>\n",
       "      <td>...</td>\n",
       "    </tr>\n",
       "    <tr>\n",
       "      <th>9995</th>\n",
       "      <td>29989</td>\n",
       "      <td>30002.487916</td>\n",
       "      <td>inf</td>\n",
       "      <td>inf</td>\n",
       "      <td>inf</td>\n",
       "      <td>13.487916</td>\n",
       "      <td>0.137757</td>\n",
       "      <td>0.065000</td>\n",
       "      <td>5.759808</td>\n",
       "    </tr>\n",
       "    <tr>\n",
       "      <th>9996</th>\n",
       "      <td>29992</td>\n",
       "      <td>29989.838460</td>\n",
       "      <td>inf</td>\n",
       "      <td>inf</td>\n",
       "      <td>inf</td>\n",
       "      <td>-2.161540</td>\n",
       "      <td>0.099164</td>\n",
       "      <td>0.064777</td>\n",
       "      <td>5.759242</td>\n",
       "    </tr>\n",
       "    <tr>\n",
       "      <th>9997</th>\n",
       "      <td>29995</td>\n",
       "      <td>29995.762328</td>\n",
       "      <td>inf</td>\n",
       "      <td>inf</td>\n",
       "      <td>inf</td>\n",
       "      <td>0.762328</td>\n",
       "      <td>0.120248</td>\n",
       "      <td>0.064847</td>\n",
       "      <td>5.758678</td>\n",
       "    </tr>\n",
       "    <tr>\n",
       "      <th>9998</th>\n",
       "      <td>29998</td>\n",
       "      <td>29997.735624</td>\n",
       "      <td>inf</td>\n",
       "      <td>inf</td>\n",
       "      <td>inf</td>\n",
       "      <td>-0.264376</td>\n",
       "      <td>0.659101</td>\n",
       "      <td>0.064814</td>\n",
       "      <td>5.758168</td>\n",
       "    </tr>\n",
       "    <tr>\n",
       "      <th>9999</th>\n",
       "      <td>30001</td>\n",
       "      <td>29993.607034</td>\n",
       "      <td>inf</td>\n",
       "      <td>inf</td>\n",
       "      <td>inf</td>\n",
       "      <td>-7.392966</td>\n",
       "      <td>1.996636</td>\n",
       "      <td>0.064068</td>\n",
       "      <td>5.757792</td>\n",
       "    </tr>\n",
       "  </tbody>\n",
       "</table>\n",
       "<p>10000 rows × 9 columns</p>\n",
       "</div>"
      ],
      "text/plain": [
       "         v1            v2            v3            v4            v5  \\\n",
       "0         4     17.545169  5.459815e+01  6.814332e+01  4.166485e+07   \n",
       "1         7      3.741229  1.096633e+03  1.093374e+03  4.214978e+01   \n",
       "2        10      8.015416  2.202647e+04  2.202448e+04  3.027270e+03   \n",
       "3        13     12.265917  4.424134e+05  4.424127e+05  2.123344e+05   \n",
       "4        16     27.303001  8.886111e+06  8.886122e+06  7.203487e+11   \n",
       "...     ...           ...           ...           ...           ...   \n",
       "9995  29989  30002.487916           inf           inf           inf   \n",
       "9996  29992  29989.838460           inf           inf           inf   \n",
       "9997  29995  29995.762328           inf           inf           inf   \n",
       "9998  29998  29997.735624           inf           inf           inf   \n",
       "9999  30001  29993.607034           inf           inf           inf   \n",
       "\n",
       "          noise    pareto  running_avg_normal  running_avg_pareto  \n",
       "0     13.545169  0.769699           13.545169            0.769699  \n",
       "1     -3.258771  2.677728            5.143199            1.723714  \n",
       "2     -1.984584  0.536141            2.767271            1.327856  \n",
       "3     -0.734083  0.105397            1.891933            1.022241  \n",
       "4     11.303001  0.605432            3.774147            0.938880  \n",
       "...         ...       ...                 ...                 ...  \n",
       "9995  13.487916  0.137757            0.065000            5.759808  \n",
       "9996  -2.161540  0.099164            0.064777            5.759242  \n",
       "9997   0.762328  0.120248            0.064847            5.758678  \n",
       "9998  -0.264376  0.659101            0.064814            5.758168  \n",
       "9999  -7.392966  1.996636            0.064068            5.757792  \n",
       "\n",
       "[10000 rows x 9 columns]"
      ]
     },
     "execution_count": 219,
     "metadata": {},
     "output_type": "execute_result"
    }
   ],
   "source": [
    "# calculate running average of noise column and add it as \"running_avg_normal\" column\n",
    "df_full['running_avg_normal'] = df_full['noise'].expanding().mean()\n",
    "# calculate running average of pareto column and add it as \"running_avg_pareto\" column\n",
    "df_full['running_avg_pareto']= df_full['pareto'].expanding().mean()\n",
    "# take a peek at the updated dataframe\n",
    "df_full"
   ]
  },
  {
   "cell_type": "markdown",
   "id": "7cecaf5e",
   "metadata": {},
   "source": [
    "3.3) Create a lineplot for running_avg_normal and a lineplot for running_avg_Pareto. Remark on your observations."
   ]
  },
  {
   "cell_type": "code",
   "execution_count": 223,
   "id": "5b8f16ba",
   "metadata": {},
   "outputs": [
    {
     "data": {
      "text/plain": [
       "<Axes: >"
      ]
     },
     "execution_count": 223,
     "metadata": {},
     "output_type": "execute_result"
    },
    {
     "data": {
      "image/png": "[encoded data removed]",
      "text/plain": [
       "<Figure size 640x480 with 1 Axes>"
      ]
     },
     "metadata": {},
     "output_type": "display_data"
    }
   ],
   "source": [
    "# create the lineplot showing 'running_avg_normal' and'running_avg_pareto'\n",
    "d = df_full[['running_avg_normal', 'running_avg_pareto']]\n",
    "#d = df_full['running_avg_pareto']\n",
    "sns.lineplot(data = d)"
   ]
  },
  {
   "cell_type": "markdown",
   "id": "2c683eb6",
   "metadata": {},
   "source": [
    "*The normal distribution appears centered around 0,2, with a longer \"tail parallel to each axis.  The running average pareto seems to have a more varied line with some abrupt turning points.  This makes sense because normalizing usually smooths a graph, so the resulting values would have a more gradually changing mean*"
   ]
  }
 ],
 "metadata": {
  "kernelspec": {
   "display_name": "venv",
   "language": "python",
   "name": "python3"
  },
  "language_info": {
   "codemirror_mode": {
    "name": "ipython",
    "version": 3
   },
   "file_extension": ".py",
   "mimetype": "text/x-python",
   "name": "python",
   "nbconvert_exporter": "python",
   "pygments_lexer": "ipython3",
   "version": "3.13.7"
  }
 },
 "nbformat": 4,
 "nbformat_minor": 5
}
